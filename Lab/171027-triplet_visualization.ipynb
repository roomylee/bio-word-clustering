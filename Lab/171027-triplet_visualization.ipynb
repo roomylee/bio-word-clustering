{
 "cells": [
  {
   "cell_type": "code",
   "execution_count": 1,
   "metadata": {
    "collapsed": true
   },
   "outputs": [],
   "source": [
    "import igraph as ig"
   ]
  },
  {
   "cell_type": "code",
   "execution_count": 2,
   "metadata": {
    "collapsed": true
   },
   "outputs": [],
   "source": [
    "import os, sys\n",
    "sys.path.append(os.path.split(os.getcwd())[0])\n",
    "\n",
    "from WordVector import WordVector"
   ]
  },
  {
   "cell_type": "code",
   "execution_count": 3,
   "metadata": {},
   "outputs": [
    {
     "name": "stdout",
     "output_type": "stream",
     "text": [
      "['BAC00streptpyog', 'BAC00escheco', 'BAC00vibvulni', 'BAC00vibvulni', 'BAC00salmoente']\n",
      "['DIS00diseases', 'DIS00meningitis', 'DIS00sepsis', 'DIS00disease', 'DIS00sepsis']\n",
      "['cause', 'cause', 'cause', 'cause', 'cause']\n"
     ]
    }
   ],
   "source": [
    "import data_helper\n",
    "bac,dis,rel = data_helper.get_triplet()\n",
    "nodes = bac + dis + rel\n",
    "print(bac[:5])\n",
    "print(dis[:5])\n",
    "print(rel[:5])"
   ]
  },
  {
   "cell_type": "code",
   "execution_count": 4,
   "metadata": {},
   "outputs": [
    {
     "data": {
      "text/plain": [
       "['BAC00streptpyog',\n",
       " 'BAC00escheco',\n",
       " 'BAC00vibvulni',\n",
       " 'BAC00vibvulni',\n",
       " 'BAC00salmoente']"
      ]
     },
     "execution_count": 4,
     "metadata": {},
     "output_type": "execute_result"
    }
   ],
   "source": [
    "nodes[:5]"
   ]
  },
  {
   "cell_type": "code",
   "execution_count": 5,
   "metadata": {
    "collapsed": true
   },
   "outputs": [],
   "source": [
    "unique_nodes = list(set(nodes))"
   ]
  },
  {
   "cell_type": "code",
   "execution_count": 6,
   "metadata": {},
   "outputs": [
    {
     "name": "stdout",
     "output_type": "stream",
     "text": [
      "['catheter-relate', 'BAC00listmonocy', 'BAC00aerohydro', 'BAC00ureapureal', 'BAC00burkhopseudo']\n",
      "142\n"
     ]
    }
   ],
   "source": [
    "print(unique_nodes[:5])\n",
    "print(len(unique_nodes))"
   ]
  },
  {
   "cell_type": "code",
   "execution_count": 7,
   "metadata": {},
   "outputs": [],
   "source": [
    "nodes_num = {}\n",
    "for i in range(len(unique_nodes)):\n",
    "    nodes_num[unique_nodes[i]] = i"
   ]
  },
  {
   "cell_type": "code",
   "execution_count": 8,
   "metadata": {},
   "outputs": [
    {
     "data": {
      "text/plain": [
       "{'BAC00actinmey': 12,\n",
       " 'BAC00actinne': 55,\n",
       " 'BAC00aerohydro': 2,\n",
       " 'BAC00bacianth': 17,\n",
       " 'BAC00bifidobbif': 81,\n",
       " 'BAC00bifidoblon': 88,\n",
       " 'BAC00burkhocenoc': 131,\n",
       " 'BAC00burkhocep': 116,\n",
       " 'BAC00burkhomal': 93,\n",
       " 'BAC00burkhopseudo': 4,\n",
       " 'BAC00campyljej': 85,\n",
       " 'BAC00citrokos': 111,\n",
       " 'BAC00citrorode': 84,\n",
       " 'BAC00clostperfr': 114,\n",
       " 'BAC00corynebamyco': 37,\n",
       " 'BAC00corynebjeik': 87,\n",
       " 'BAC00corynebxer': 125,\n",
       " 'BAC00empedobre': 71,\n",
       " 'BAC00enteroaero': 72,\n",
       " 'BAC00enteroclo': 60,\n",
       " 'BAC00enterofaec': 25,\n",
       " 'BAC00erysiperhusio': 39,\n",
       " 'BAC00escheco': 132,\n",
       " 'BAC00fusobanecro': 7,\n",
       " 'BAC00haemoinflu': 135,\n",
       " 'BAC00klebspneum': 105,\n",
       " 'BAC00lactobplan': 129,\n",
       " 'BAC00lactoplan': 34,\n",
       " 'BAC00listmonocy': 1,\n",
       " 'BAC00neismening': 127,\n",
       " 'BAC00pandisp': 5,\n",
       " 'BAC00prevobuc': 67,\n",
       " 'BAC00promira': 120,\n",
       " 'BAC00pseudaerug': 86,\n",
       " 'BAC00raoulornithi': 137,\n",
       " 'BAC00salmoente': 138,\n",
       " 'BAC00sebaltermi': 78,\n",
       " 'BAC00staphylaur': 133,\n",
       " 'BAC00staphylcarn': 44,\n",
       " 'BAC00staphylepide': 83,\n",
       " 'BAC00stenotromalto': 89,\n",
       " 'BAC00streptagala': 13,\n",
       " 'BAC00streptaur': 10,\n",
       " 'BAC00streptgallol': 14,\n",
       " 'BAC00streptmi': 29,\n",
       " 'BAC00streptpneum': 90,\n",
       " 'BAC00streptpyog': 75,\n",
       " 'BAC00streptsu': 100,\n",
       " 'BAC00ureapureal': 3,\n",
       " 'BAC00vibvulni': 58,\n",
       " 'BAC00wohlfahrchitini': 74,\n",
       " 'BAC00yersenteroc': 101,\n",
       " 'BAC00yerspes': 53,\n",
       " 'DIS00actinomycosis': 41,\n",
       " 'DIS00bactpneu': 36,\n",
       " 'DIS00diarrhea': 121,\n",
       " 'DIS00disease': 123,\n",
       " 'DIS00diseases': 95,\n",
       " 'DIS00gastrointestinal': 43,\n",
       " 'DIS00glanders': 38,\n",
       " 'DIS00influenzae': 70,\n",
       " 'DIS00melioidosis': 97,\n",
       " 'DIS00meningitis': 122,\n",
       " 'DIS00plague': 42,\n",
       " 'DIS00pneumonia': 51,\n",
       " 'DIS00pneumoniae': 48,\n",
       " 'DIS00sepsis': 19,\n",
       " 'DIS00sepsis-induced': 45,\n",
       " 'DIS00sepsis/DIS00meningitis': 52,\n",
       " 'abdominal': 106,\n",
       " 'accompany': 35,\n",
       " 'acquire': 21,\n",
       " 'agent': 30,\n",
       " 'airway': 134,\n",
       " 'amount': 15,\n",
       " 'appear': 107,\n",
       " 'ascribe': 115,\n",
       " 'associate': 112,\n",
       " 'bacterium': 128,\n",
       " 'capacity': 6,\n",
       " 'catheter-relate': 0,\n",
       " 'cause': 61,\n",
       " 'challenge': 103,\n",
       " 'colonise': 11,\n",
       " 'colonize': 119,\n",
       " 'constitute': 50,\n",
       " 'consumption': 54,\n",
       " 'contaminate': 91,\n",
       " 'due': 126,\n",
       " 'during': 56,\n",
       " 'early-onset': 73,\n",
       " 'effective': 65,\n",
       " 'eon': 80,\n",
       " 'episode': 79,\n",
       " 'etiology': 27,\n",
       " 'evaluate': 98,\n",
       " 'evoke': 130,\n",
       " 'experimental': 104,\n",
       " 'factor': 109,\n",
       " 'follow': 8,\n",
       " 'gram-negative': 117,\n",
       " 'incidence': 96,\n",
       " 'induce': 141,\n",
       " 'infection': 20,\n",
       " 'inflammation': 18,\n",
       " 'infusion': 57,\n",
       " 'initiate': 26,\n",
       " 'inject': 47,\n",
       " 'injection': 108,\n",
       " 'isolate': 63,\n",
       " 'lead': 66,\n",
       " 'manifestation': 82,\n",
       " 'model': 46,\n",
       " 'mortality': 110,\n",
       " 'mouse': 40,\n",
       " 'neonatal': 140,\n",
       " 'obtain': 31,\n",
       " 'organism': 16,\n",
       " 'overwhelm': 92,\n",
       " 'oyster': 124,\n",
       " 'pathogen': 99,\n",
       " 'patient': 28,\n",
       " 'phenotype': 62,\n",
       " 'predominate': 77,\n",
       " 'premature': 9,\n",
       " 'prevent': 113,\n",
       " 'produce': 136,\n",
       " 'protect': 24,\n",
       " 'recover': 32,\n",
       " 'reduce': 118,\n",
       " 'responsible': 59,\n",
       " 'result': 23,\n",
       " 'survival': 64,\n",
       " 'syndrome': 76,\n",
       " 'systemic': 69,\n",
       " 'tool': 94,\n",
       " 'tract': 49,\n",
       " 'translocation': 22,\n",
       " 'traverse': 139,\n",
       " 'trigger': 33,\n",
       " 'type': 68,\n",
       " 'use': 102}"
      ]
     },
     "execution_count": 8,
     "metadata": {},
     "output_type": "execute_result"
    }
   ],
   "source": [
    "nodes_num"
   ]
  },
  {
   "cell_type": "code",
   "execution_count": 9,
   "metadata": {},
   "outputs": [],
   "source": [
    "Edges = []\n",
    "for i in range(len(bac)):\n",
    "    Edges.append((nodes_num[bac[i]], nodes_num[rel[i]]))\n",
    "    Edges.append((nodes_num[rel[i]], nodes_num[dis[i]]))\n",
    "\n",
    "G=ig.Graph(Edges, directed=False)\n"
   ]
  },
  {
   "cell_type": "code",
   "execution_count": 10,
   "metadata": {},
   "outputs": [
    {
     "name": "stdout",
     "output_type": "stream",
     "text": [
      "[(75, 61), (61, 95), (132, 61), (61, 122), (58, 61)]\n",
      "554\n"
     ]
    }
   ],
   "source": [
    "print(Edges[:5])\n",
    "print(len(Edges))"
   ]
  },
  {
   "cell_type": "code",
   "execution_count": 11,
   "metadata": {
    "collapsed": true
   },
   "outputs": [],
   "source": [
    "labels=[]\n",
    "group=[]\n",
    "for node in list(set(bac)):\n",
    "    labels.append(node)\n",
    "    group.append(1)\n",
    "for node in list(set(dis)):\n",
    "    labels.append(node)\n",
    "    group.append(2)\n",
    "for node in list(set(rel)):\n",
    "    labels.append(node)\n",
    "    group.append(3)"
   ]
  },
  {
   "cell_type": "code",
   "execution_count": 12,
   "metadata": {},
   "outputs": [
    {
     "name": "stdout",
     "output_type": "stream",
     "text": [
      "['BAC00listmonocy', 'BAC00klebspneum', 'BAC00aerohydro', 'BAC00burkhopseudo', 'BAC00ureapureal']\n",
      "[1, 1, 1, 1, 1]\n"
     ]
    }
   ],
   "source": [
    "print(labels[:5])\n",
    "print(group[:5])"
   ]
  },
  {
   "cell_type": "code",
   "execution_count": 13,
   "metadata": {},
   "outputs": [
    {
     "name": "stdout",
     "output_type": "stream",
     "text": [
      "['colonize', 'organism', 'inflammation', 'oyster', 'consumption']\n",
      "[3, 3, 3, 3, 3]\n"
     ]
    }
   ],
   "source": [
    "print(labels[100:105])\n",
    "print(group[100:105])"
   ]
  },
  {
   "cell_type": "code",
   "execution_count": 14,
   "metadata": {
    "collapsed": true
   },
   "outputs": [],
   "source": [
    "layt = G.layout('kk', dim=3)"
   ]
  },
  {
   "cell_type": "code",
   "execution_count": 15,
   "metadata": {},
   "outputs": [
    {
     "data": {
      "text/plain": [
       "[[-0.010570666964343398, -5.195650719085107, 7.281253638449483],\n",
       " [-1.3091284178558498, -5.743548650444791, 8.870416595399139],\n",
       " [0.37129773580940045, -5.452210576571805, 10.15434477936982],\n",
       " [1.7965376534235966, -2.3130945860474235, 10.73478488939865],\n",
       " [0.8932540161066804, -5.1905417046986235, 9.414516403333899]]"
      ]
     },
     "execution_count": 15,
     "metadata": {},
     "output_type": "execute_result"
    }
   ],
   "source": [
    "layt[:5]"
   ]
  },
  {
   "cell_type": "code",
   "execution_count": 16,
   "metadata": {
    "scrolled": true
   },
   "outputs": [],
   "source": [
    "N = len(unique_nodes)\n",
    "Xn=[layt[k][0] for k in range(N)]# x-coordinates of nodes\n",
    "Yn=[layt[k][1] for k in range(N)]# y-coordinates\n",
    "Zn=[layt[k][2] for k in range(N)]# z-coordinates\n",
    "Xe=[]\n",
    "Ye=[]\n",
    "Ze=[]\n",
    "for e in Edges:\n",
    "    Xe+=[layt[e[0]][0],layt[e[1]][0], None]# x-coordinates of edge ends\n",
    "    Ye+=[layt[e[0]][1],layt[e[1]][1], None]\n",
    "    Ze+=[layt[e[0]][2],layt[e[1]][2], None]\n"
   ]
  },
  {
   "cell_type": "code",
   "execution_count": 17,
   "metadata": {
    "collapsed": true
   },
   "outputs": [],
   "source": [
    "import plotly.plotly as py\n",
    "from plotly.graph_objs import *"
   ]
  },
  {
   "cell_type": "code",
   "execution_count": 18,
   "metadata": {
    "collapsed": true
   },
   "outputs": [],
   "source": [
    "trace1=Scatter3d(x=Xe,\n",
    "               y=Ye,\n",
    "               z=Ze,\n",
    "               mode='lines',\n",
    "               line=Line(color='rgb(125,125,125)', width=1),\n",
    "               hoverinfo='none'\n",
    "               )\n",
    "trace2=Scatter3d(x=Xn,\n",
    "               y=Yn,\n",
    "               z=Zn,\n",
    "               mode='markers',\n",
    "               name='actors',\n",
    "               marker=Marker(symbol='dot',\n",
    "                             size=4,\n",
    "                             color=group,\n",
    "                             colorscale='Viridis',\n",
    "                             line=Line(color='rgb(50,50,50)', width=0.5)\n",
    "                             ),\n",
    "               text=labels,\n",
    "               hoverinfo='text'\n",
    "               )\n"
   ]
  },
  {
   "cell_type": "code",
   "execution_count": 19,
   "metadata": {
    "collapsed": true
   },
   "outputs": [],
   "source": [
    "axis=dict(showbackground=False,\n",
    "          showline=False,\n",
    "          zeroline=False,\n",
    "          showgrid=False,\n",
    "          showticklabels=False,\n",
    "          title=''\n",
    "          )\n"
   ]
  },
  {
   "cell_type": "code",
   "execution_count": 20,
   "metadata": {
    "collapsed": true
   },
   "outputs": [],
   "source": [
    "layout = Layout(\n",
    "         title=\"Bio Triplet Visualization\",\n",
    "         width=1000,\n",
    "         height=1000,\n",
    "         showlegend=False,\n",
    "         scene=Scene(\n",
    "         xaxis=XAxis(axis),\n",
    "         yaxis=YAxis(axis),\n",
    "         zaxis=ZAxis(axis),\n",
    "        ),\n",
    "     margin=Margin(\n",
    "        t=100\n",
    "    ),\n",
    "    hovermode='closest',\n",
    "    annotations=Annotations([\n",
    "           Annotation(\n",
    "           showarrow=False,\n",
    "            text=\"\",\n",
    "            xref='paper',\n",
    "            yref='paper',\n",
    "            x=0,\n",
    "            y=0.1,\n",
    "            xanchor='left',\n",
    "            yanchor='bottom',\n",
    "            font=Font(\n",
    "            size=14\n",
    "            )\n",
    "            )\n",
    "        ]),    )"
   ]
  },
  {
   "cell_type": "code",
   "execution_count": 21,
   "metadata": {},
   "outputs": [
    {
     "data": {
      "text/html": [
       "<iframe id=\"igraph\" scrolling=\"no\" style=\"border:none;\" seamless=\"seamless\" src=\"https://plot.ly/~roomylee/2.embed\" height=\"1000px\" width=\"1000px\"></iframe>"
      ],
      "text/plain": [
       "<plotly.tools.PlotlyDisplay object>"
      ]
     },
     "execution_count": 21,
     "metadata": {},
     "output_type": "execute_result"
    }
   ],
   "source": [
    "data_=Data([trace1, trace2])\n",
    "fig=Figure(data=data_, layout=layout)\n",
    "\n",
    "py.iplot(fig, filename='Bio Triplet Visualization')"
   ]
  },
  {
   "cell_type": "code",
   "execution_count": null,
   "metadata": {
    "collapsed": true
   },
   "outputs": [],
   "source": []
  }
 ],
 "metadata": {
  "kernelspec": {
   "display_name": "Python 3",
   "language": "python",
   "name": "python3"
  },
  "language_info": {
   "codemirror_mode": {
    "name": "ipython",
    "version": 3
   },
   "file_extension": ".py",
   "mimetype": "text/x-python",
   "name": "python",
   "nbconvert_exporter": "python",
   "pygments_lexer": "ipython3",
   "version": "3.6.2"
  }
 },
 "nbformat": 4,
 "nbformat_minor": 2
}
