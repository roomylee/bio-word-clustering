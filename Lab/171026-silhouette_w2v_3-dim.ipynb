{
 "cells": [
  {
   "cell_type": "code",
   "execution_count": 1,
   "metadata": {
    "collapsed": true
   },
   "outputs": [],
   "source": [
    "import plotly.plotly as py\n",
    "import plotly.graph_objs as go\n",
    "from plotly import tools\n",
    "\n",
    "from __future__ import print_function\n",
    "\n",
    "from sklearn.datasets import make_blobs\n",
    "from sklearn.cluster import KMeans, DBSCAN\n",
    "from sklearn.metrics import silhouette_samples, silhouette_score\n",
    "\n",
    "import matplotlib\n",
    "import matplotlib.pyplot as plt\n",
    "import matplotlib.cm as cm\n",
    "import numpy as np"
   ]
  },
  {
   "cell_type": "code",
   "execution_count": 2,
   "metadata": {
    "collapsed": true
   },
   "outputs": [],
   "source": [
    "import os, sys\n",
    "sys.path.append(os.path.split(os.getcwd())[0])\n",
    "\n",
    "from WordVector import WordVector"
   ]
  },
  {
   "cell_type": "code",
   "execution_count": 3,
   "metadata": {},
   "outputs": [
    {
     "data": {
      "text/plain": [
       "['cause', 'cause', 'cause', 'cause', 'cause']"
      ]
     },
     "execution_count": 3,
     "metadata": {},
     "output_type": "execute_result"
    }
   ],
   "source": [
    "import data_helper\n",
    "_,_,relation = data_helper.get_triplet()\n",
    "relation[:5]"
   ]
  },
  {
   "cell_type": "code",
   "execution_count": 4,
   "metadata": {},
   "outputs": [
    {
     "data": {
      "text/plain": [
       "['infection', 'obtain', 'use', 'appear', 'colonise']"
      ]
     },
     "execution_count": 4,
     "metadata": {},
     "output_type": "execute_result"
    }
   ],
   "source": [
    "relation = list(set(relation))\n",
    "relation[:5]"
   ]
  },
  {
   "cell_type": "code",
   "execution_count": 5,
   "metadata": {},
   "outputs": [
    {
     "name": "stdout",
     "output_type": "stream",
     "text": [
      "Loading a pre-trained model...\n",
      "Load success!\n"
     ]
    }
   ],
   "source": [
    "wv = WordVector(relation, dim=3)"
   ]
  },
  {
   "cell_type": "code",
   "execution_count": 6,
   "metadata": {},
   "outputs": [
    {
     "data": {
      "text/plain": [
       "['infection', 'obtain', 'use', 'appear', 'colonise']"
      ]
     },
     "execution_count": 6,
     "metadata": {},
     "output_type": "execute_result"
    }
   ],
   "source": [
    "wv.word[:5]"
   ]
  },
  {
   "cell_type": "code",
   "execution_count": 7,
   "metadata": {},
   "outputs": [
    {
     "data": {
      "text/plain": [
       "array([ 4.6460371 ,  3.42395353, -2.84098554], dtype=float32)"
      ]
     },
     "execution_count": 7,
     "metadata": {},
     "output_type": "execute_result"
    }
   ],
   "source": [
    "wv.vector[0]"
   ]
  },
  {
   "cell_type": "markdown",
   "metadata": {},
   "source": [
    "# Silhouette Coefficient Analysis"
   ]
  },
  {
   "cell_type": "code",
   "execution_count": 8,
   "metadata": {},
   "outputs": [],
   "source": [
    "range_n_clusters = [2, 3, 4, 5, 6, 7, 8, 9, 10]\n",
    "colors=[\"rgb(255,0,0)\", \"rgb(0,255,0)\", \"rgb(0,0,255)\", \"rgb(255,255,0)\", \"rgb(255,0,255)\", \n",
    "        \"rgb(0,255,255)\", \"rgb(127,0,255)\", \"rgb(255,128,0)\",\"rgb(255,0,127)\", \"rgb(128,128,128)\"]"
   ]
  },
  {
   "cell_type": "code",
   "execution_count": 9,
   "metadata": {
    "scrolled": false
   },
   "outputs": [
    {
     "name": "stdout",
     "output_type": "stream",
     "text": [
      "For n_clusters = 2 The average silhouette_score is : 0.358086\n",
      "For n_clusters = 3 The average silhouette_score is : 0.342406\n",
      "For n_clusters = 4 The average silhouette_score is : 0.409304\n",
      "For n_clusters = 5 The average silhouette_score is : 0.406962\n",
      "For n_clusters = 6 The average silhouette_score is : 0.405057\n",
      "For n_clusters = 7 The average silhouette_score is : 0.405453\n",
      "For n_clusters = 8 The average silhouette_score is : 0.408889\n",
      "For n_clusters = 9 The average silhouette_score is : 0.395544\n",
      "For n_clusters = 10 The average silhouette_score is : 0.41415\n"
     ]
    }
   ],
   "source": [
    "figures = []\n",
    "\n",
    "for n_clusters in range_n_clusters:\n",
    "    # Create a subplot with 1 row and 2 columns\n",
    "    fig = tools.make_subplots(rows=1, cols=2,\n",
    "                              print_grid=False,\n",
    "                              specs=[[{'is_3d': False}, {'is_3d': True}]])\n",
    "\n",
    "    # The 1st subplot is the silhouette plot\n",
    "    # The silhouette coefficient can range from -1, 1 but in this example all\n",
    "    # lie within [-0.1, 1]\n",
    "    fig['layout']['xaxis1'].update(title='The silhouette coefficient values', range=[-0.1, 1])\n",
    "   \n",
    "    # The (n_clusters+1)*10 is for inserting blank space between silhouette\n",
    "    # plots of individual clusters, to demarcate them clearly.\n",
    "    fig['layout']['yaxis1'].update(title='Cluster label',\n",
    "                                   showticklabels=False,\n",
    "                                   range=[0, len(wv.vector) + (n_clusters + 1) * 10])\n",
    "\n",
    "    # Initialize the clusterer with n_clusters value and a random generator\n",
    "    # seed of 10 for reproducibility.\n",
    "    clusterer = KMeans(n_clusters=n_clusters)\n",
    "    cluster_labels = clusterer.fit_predict(wv.vector)\n",
    "\n",
    "    # The silhouette_score gives the average value for all the samples.\n",
    "    # This gives a perspective into the density and separation of the formed\n",
    "    # clusters\n",
    "    silhouette_avg = silhouette_score(wv.vector, cluster_labels)\n",
    "    print(\"For n_clusters =\", n_clusters,\n",
    "          \"The average silhouette_score is :\", silhouette_avg)\n",
    "\n",
    "    # Compute the silhouette scores for each sample\n",
    "    sample_silhouette_values = silhouette_samples(wv.vector, cluster_labels)\n",
    "    y_lower = 10\n",
    "    \n",
    "    for i in range(n_clusters):\n",
    "        # Aggregate the silhouette scores for samples belonging to\n",
    "        # cluster i, and sort them\n",
    "        ith_cluster_silhouette_values = \\\n",
    "            sample_silhouette_values[cluster_labels == i]\n",
    "\n",
    "        ith_cluster_silhouette_values.sort()\n",
    "\n",
    "        size_cluster_i = ith_cluster_silhouette_values.shape[0]\n",
    "        y_upper = y_lower + size_cluster_i\n",
    "\n",
    "        # colors = cm.spectral(cluster_labels.astype(float) / n_clusters)\n",
    "\n",
    "        filled_area = go.Scatter(y=np.arange(y_lower, y_upper),\n",
    "                                 x=ith_cluster_silhouette_values,\n",
    "                                 mode='lines',\n",
    "                                 showlegend=False,\n",
    "                                 line=dict(width=0.5,\n",
    "                                          color=colors[i]),\n",
    "                                 fill='tozerox')\n",
    "        fig.append_trace(filled_area, 1, 1)\n",
    "        \n",
    "        # Compute the new y_lower for next plot\n",
    "        y_lower = y_upper + 10  # 10 for the 0 samples\n",
    "        \n",
    "\n",
    "    # The vertical line for average silhouette score of all the values\n",
    "    axis_line = go.Scatter(x=[silhouette_avg],\n",
    "                           y=[0, len(wv.vector) + (n_clusters + 1) * 10],\n",
    "                           showlegend=False,\n",
    "                           mode='lines',\n",
    "                           line=dict(color=\"red\", dash='dash',\n",
    "                                     width =1) )\n",
    "\n",
    "    fig.append_trace(axis_line, 1, 1)\n",
    "    \n",
    "    \n",
    "    \n",
    "    \n",
    "    \n",
    "    \n",
    "    # 2nd Plot showing the actual clusters formed\n",
    "    \n",
    "    labeled_vec = list(zip(wv.vector, cluster_labels))\n",
    "    # Labeling the clusters\n",
    "    centers_ = clusterer.cluster_centers_\n",
    "    for i in range(n_clusters):\n",
    "        ith_cluster_vector = np.array([v for (v,c) in labeled_vec if c == i])\n",
    "        # colors = matplotlib.colors.colorConverter.to_rgb(cm.spectral(float(i) / n_clusters))\n",
    "        # colors = 'rgb'+str(colors)\n",
    "        \n",
    "        clusters = go.Scatter3d(x=ith_cluster_vector[:, 0], \n",
    "                                y=ith_cluster_vector[:, 1], \n",
    "                                z=ith_cluster_vector[:, 2],\n",
    "                                showlegend=False,\n",
    "                                mode='markers',\n",
    "                                marker=dict(\n",
    "                                    color=colors[i],\n",
    "                                    size=3,\n",
    "                                    line=dict(\n",
    "                                        width=0.5\n",
    "                                    )\n",
    "                                )\n",
    "                               )\n",
    "        fig.append_trace(clusters, 1, 2)\n",
    "        \n",
    "        # Draw white circles at cluster centers\n",
    "        centers = go.Scatter3d(x=centers_[i][0], \n",
    "                               y=centers_[i][1],\n",
    "                               z=centers_[i][2],\n",
    "                               showlegend=False,\n",
    "                               mode='markers',\n",
    "                               marker=dict(\n",
    "                                   color=colors[i], size=5,\n",
    "                                   line=dict(color='black', width=1))\n",
    "                               )\n",
    "\n",
    "        fig.append_trace(centers, 1, 2)\n",
    "    \n",
    "                      \n",
    "        \n",
    "        \n",
    "        \n",
    "\n",
    "    fig['layout'].update(title=\"Silhouette analysis for KMeans clustering on sample data \"\n",
    "                         \"with n_clusters = %d\" % n_clusters)\n",
    "    \n",
    "    figures.append(fig)"
   ]
  },
  {
   "cell_type": "code",
   "execution_count": 10,
   "metadata": {},
   "outputs": [
    {
     "data": {
      "text/html": [
       "<iframe id=\"igraph\" scrolling=\"no\" style=\"border:none;\" seamless=\"seamless\" src=\"https://plot.ly/~JooHongLee/142.embed\" height=\"525px\" width=\"100%\"></iframe>"
      ],
      "text/plain": [
       "<plotly.tools.PlotlyDisplay object>"
      ]
     },
     "execution_count": 10,
     "metadata": {},
     "output_type": "execute_result"
    }
   ],
   "source": [
    "py.iplot(figures[0])"
   ]
  },
  {
   "cell_type": "code",
   "execution_count": 11,
   "metadata": {},
   "outputs": [
    {
     "data": {
      "text/html": [
       "<iframe id=\"igraph\" scrolling=\"no\" style=\"border:none;\" seamless=\"seamless\" src=\"https://plot.ly/~JooHongLee/144.embed\" height=\"525px\" width=\"100%\"></iframe>"
      ],
      "text/plain": [
       "<plotly.tools.PlotlyDisplay object>"
      ]
     },
     "execution_count": 11,
     "metadata": {},
     "output_type": "execute_result"
    }
   ],
   "source": [
    "py.iplot(figures[1])"
   ]
  },
  {
   "cell_type": "code",
   "execution_count": 12,
   "metadata": {},
   "outputs": [
    {
     "data": {
      "text/html": [
       "<iframe id=\"igraph\" scrolling=\"no\" style=\"border:none;\" seamless=\"seamless\" src=\"https://plot.ly/~JooHongLee/146.embed\" height=\"525px\" width=\"100%\"></iframe>"
      ],
      "text/plain": [
       "<plotly.tools.PlotlyDisplay object>"
      ]
     },
     "execution_count": 12,
     "metadata": {},
     "output_type": "execute_result"
    }
   ],
   "source": [
    "py.iplot(figures[2])"
   ]
  },
  {
   "cell_type": "code",
   "execution_count": null,
   "metadata": {
    "collapsed": true
   },
   "outputs": [],
   "source": []
  }
 ],
 "metadata": {
  "kernelspec": {
   "display_name": "Python 3",
   "language": "python",
   "name": "python3"
  },
  "language_info": {
   "codemirror_mode": {
    "name": "ipython",
    "version": 3
   },
   "file_extension": ".py",
   "mimetype": "text/x-python",
   "name": "python",
   "nbconvert_exporter": "python",
   "pygments_lexer": "ipython3",
   "version": "3.6.1"
  }
 },
 "nbformat": 4,
 "nbformat_minor": 2
}
