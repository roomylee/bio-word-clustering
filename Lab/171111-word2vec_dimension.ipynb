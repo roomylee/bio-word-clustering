{
 "cells": [
  {
   "cell_type": "markdown",
   "metadata": {},
   "source": [
    "# Word2Vec Embedding Dimension Analysis"
   ]
  },
  {
   "cell_type": "code",
   "execution_count": 1,
   "metadata": {
    "collapsed": true
   },
   "outputs": [],
   "source": [
    "import plotly.plotly as py\n",
    "import plotly.graph_objs as go\n",
    "from plotly import tools\n",
    "\n",
    "from __future__ import print_function\n",
    "\n",
    "from sklearn.datasets import make_blobs\n",
    "from sklearn.cluster import KMeans, DBSCAN\n",
    "from sklearn.metrics import silhouette_samples, silhouette_score\n",
    "\n",
    "import matplotlib\n",
    "import matplotlib.pyplot as plt\n",
    "import matplotlib.cm as cm\n",
    "import numpy as np"
   ]
  },
  {
   "cell_type": "code",
   "execution_count": 2,
   "metadata": {
    "collapsed": true
   },
   "outputs": [],
   "source": [
    "range_n_clusters = [2, 3, 4, 5, 6, 7, 8, 9, 10]\n",
    "colors=[\"rgb(255,0,0)\", \"rgb(0,255,0)\", \"rgb(0,0,255)\", \"rgb(255,255,0)\", \"rgb(255,0,255)\", \n",
    "        \"rgb(0,255,255)\", \"rgb(127,0,255)\", \"rgb(255,128,0)\",\"rgb(255,0,127)\", \"rgb(128,128,128)\"]"
   ]
  },
  {
   "cell_type": "code",
   "execution_count": 3,
   "metadata": {},
   "outputs": [],
   "source": [
    "def silhouette_analysis(vector):\n",
    "    max_silhouette = (0, -1)\n",
    "\n",
    "    for n_clusters in range_n_clusters:\n",
    "        # Initialize the clusterer with n_clusters value and a random generator\n",
    "        # seed of 10 for reproducibility.\n",
    "        clusterer = KMeans(n_clusters=n_clusters)\n",
    "        cluster_labels = clusterer.fit_predict(vector)\n",
    "\n",
    "        # The silhouette_score gives the average value for all the samples.\n",
    "        # This gives a perspective into the density and separation of the formed\n",
    "        # clusters\n",
    "        silhouette_avg = silhouette_score(vector, cluster_labels)\n",
    "        if max_silhouette[1] < silhouette_avg:\n",
    "            max_silhouette = (n_clusters, silhouette_avg)\n",
    "        \n",
    "    print(\"For n_clusters =\", max_silhouette[0], \"The Best average silhouette_score is :\", max_silhouette[1])\n",
    "\n",
    "    return max_silhouette"
   ]
  },
  {
   "cell_type": "markdown",
   "metadata": {},
   "source": [
    "## Word2Vec Embedding"
   ]
  },
  {
   "cell_type": "code",
   "execution_count": 4,
   "metadata": {
    "collapsed": true
   },
   "outputs": [],
   "source": [
    "import os, sys\n",
    "sys.path.append(os.path.split(os.getcwd())[0])\n",
    "\n",
    "from WordVector import WordVector"
   ]
  },
  {
   "cell_type": "code",
   "execution_count": 5,
   "metadata": {},
   "outputs": [
    {
     "data": {
      "text/plain": [
       "['cause', 'cause', 'cause', 'cause', 'cause']"
      ]
     },
     "execution_count": 5,
     "metadata": {},
     "output_type": "execute_result"
    }
   ],
   "source": [
    "import data_helper\n",
    "_,_,relation = data_helper.get_triplet()\n",
    "relation[:5]"
   ]
  },
  {
   "cell_type": "code",
   "execution_count": 6,
   "metadata": {},
   "outputs": [
    {
     "data": {
      "text/plain": [
       "['acquire', 'constitute', 'cause', 'effective', 'catheter-relate']"
      ]
     },
     "execution_count": 6,
     "metadata": {},
     "output_type": "execute_result"
    }
   ],
   "source": [
    "relation = list(set(relation))\n",
    "relation[:5]"
   ]
  },
  {
   "cell_type": "code",
   "execution_count": 7,
   "metadata": {},
   "outputs": [],
   "source": [
    "relation.remove('eon')"
   ]
  },
  {
   "cell_type": "code",
   "execution_count": 8,
   "metadata": {},
   "outputs": [],
   "source": [
    "corpus = data_helper.get_corpus()"
   ]
  },
  {
   "cell_type": "markdown",
   "metadata": {},
   "source": [
    "## Silhouette Score Analysis by Dimensionality"
   ]
  },
  {
   "cell_type": "code",
   "execution_count": 9,
   "metadata": {
    "collapsed": true
   },
   "outputs": [],
   "source": [
    "dims = [3, 5, 7, 10, 20, 40, 60, 80, 100]"
   ]
  },
  {
   "cell_type": "code",
   "execution_count": 10,
   "metadata": {
    "scrolled": false
   },
   "outputs": [
    {
     "name": "stdout",
     "output_type": "stream",
     "text": [
      "Loading a pre-trained model...\n",
      "Load success!\n",
      "Word Vector Dimension: 3\n",
      "For n_clusters = 8 The Best average silhouette_score is : 0.421457\n",
      "Loading a pre-trained model...\n",
      "Load success!\n",
      "Word Vector Dimension: 5\n",
      "For n_clusters = 2 The Best average silhouette_score is : 0.258444\n",
      "Loading a pre-trained model...\n",
      "Load success!\n",
      "Word Vector Dimension: 7\n",
      "For n_clusters = 6 The Best average silhouette_score is : 0.207154\n",
      "Loading a pre-trained model...\n",
      "Load success!\n",
      "Word Vector Dimension: 10\n",
      "For n_clusters = 3 The Best average silhouette_score is : 0.177004\n",
      "Loading a pre-trained model...\n",
      "Load success!\n",
      "Word Vector Dimension: 20\n",
      "For n_clusters = 2 The Best average silhouette_score is : 0.15241\n",
      "Loading a pre-trained model...\n",
      "Load success!\n",
      "Word Vector Dimension: 40\n",
      "For n_clusters = 10 The Best average silhouette_score is : 0.119632\n",
      "Loading a pre-trained model...\n",
      "Load success!\n",
      "Word Vector Dimension: 60\n",
      "For n_clusters = 9 The Best average silhouette_score is : 0.122866\n",
      "Loading a pre-trained model...\n",
      "Load success!\n",
      "Word Vector Dimension: 80\n",
      "For n_clusters = 2 The Best average silhouette_score is : 0.120703\n",
      "Loading a pre-trained model...\n",
      "Load success!\n",
      "Word Vector Dimension: 100\n",
      "For n_clusters = 3 The Best average silhouette_score is : 0.13206\n"
     ]
    }
   ],
   "source": [
    "best_n_cluster = []\n",
    "best_scores = []\n",
    "\n",
    "for d in dims:\n",
    "    wv = WordVector(relation, train_corpus=corpus, dim=d)\n",
    "    print(\"Word Vector Dimension: {0}\".format(wv.dim))\n",
    "    \n",
    "    score = silhouette_analysis(wv.vector)\n",
    "    best_n_cluster.append(score[0])\n",
    "    best_scores.append(score[1])"
   ]
  },
  {
   "cell_type": "code",
   "execution_count": 13,
   "metadata": {},
   "outputs": [
    {
     "data": {
      "image/png": "[encoded data removed]",
      "text/plain": [
       "<matplotlib.figure.Figure at 0x134095748>"
      ]
     },
     "metadata": {},
     "output_type": "display_data"
    }
   ],
   "source": [
    "fig = plt.figure(figsize=(18,10))\n",
    "ax = fig.add_subplot(111)\n",
    "ax.tick_params(labelsize=20)\n",
    "\n",
    "\n",
    "plt.plot(dims, best_scores)\n",
    "plt.xlabel('Word2Vec Embedding Dimension', fontsize=20)\n",
    "plt.ylabel('Silhouette Score', fontsize=20)\n",
    "plt.xticks(dims, dims)\n",
    "\n",
    "for i in range(len(dims)):\n",
    "    ax.annotate('K=%d' % best_n_cluster[i], xy=(dims[i],best_scores[i]), textcoords='data', fontsize=20)\n",
    "    \n",
    "plt.show()"
   ]
  },
  {
   "cell_type": "code",
   "execution_count": null,
   "metadata": {
    "collapsed": true
   },
   "outputs": [],
   "source": []
  }
 ],
 "metadata": {
  "kernelspec": {
   "display_name": "Python 3",
   "language": "python",
   "name": "python3"
  },
  "language_info": {
   "codemirror_mode": {
    "name": "ipython",
    "version": 3
   },
   "file_extension": ".py",
   "mimetype": "text/x-python",
   "name": "python",
   "nbconvert_exporter": "python",
   "pygments_lexer": "ipython3",
   "version": "3.6.1"
  }
 },
 "nbformat": 4,
 "nbformat_minor": 2
}
