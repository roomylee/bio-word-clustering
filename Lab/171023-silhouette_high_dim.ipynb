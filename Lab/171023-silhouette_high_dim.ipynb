{
 "cells": [
  {
   "cell_type": "code",
   "execution_count": 1,
   "metadata": {
    "collapsed": true
   },
   "outputs": [],
   "source": [
    "import plotly.plotly as py\n",
    "import plotly.graph_objs as go\n",
    "from plotly import tools\n",
    "\n",
    "from __future__ import print_function\n",
    "\n",
    "from sklearn.datasets import make_blobs\n",
    "from sklearn.cluster import KMeans, DBSCAN\n",
    "from sklearn.metrics import silhouette_samples, silhouette_score\n",
    "\n",
    "import matplotlib\n",
    "import matplotlib.pyplot as plt\n",
    "import matplotlib.cm as cm\n",
    "import numpy as np"
   ]
  },
  {
   "cell_type": "code",
   "execution_count": 2,
   "metadata": {
    "collapsed": true
   },
   "outputs": [],
   "source": [
    "import os, sys\n",
    "sys.path.append(os.path.split(os.getcwd())[0])\n",
    "\n",
    "from WordVector import WordVector"
   ]
  },
  {
   "cell_type": "code",
   "execution_count": 3,
   "metadata": {},
   "outputs": [
    {
     "data": {
      "text/plain": [
       "['cause', 'cause', 'cause', 'cause', 'cause']"
      ]
     },
     "execution_count": 3,
     "metadata": {},
     "output_type": "execute_result"
    }
   ],
   "source": [
    "import data_helper\n",
    "_,_,relation = data_helper.get_triplet()\n",
    "relation[:5]"
   ]
  },
  {
   "cell_type": "code",
   "execution_count": 4,
   "metadata": {},
   "outputs": [
    {
     "data": {
      "text/plain": [
       "['experimental', 'organism', 'airway', 'mouse', 'due']"
      ]
     },
     "execution_count": 4,
     "metadata": {},
     "output_type": "execute_result"
    }
   ],
   "source": [
    "relation = list(set(relation))\n",
    "relation[:5]"
   ]
  },
  {
   "cell_type": "code",
   "execution_count": 5,
   "metadata": {},
   "outputs": [
    {
     "name": "stdout",
     "output_type": "stream",
     "text": [
      "Loading a pre-trained model...\n",
      "Load success!\n"
     ]
    }
   ],
   "source": [
    "wv = WordVector(relation)"
   ]
  },
  {
   "cell_type": "code",
   "execution_count": 6,
   "metadata": {},
   "outputs": [
    {
     "data": {
      "text/plain": [
       "['experimental', 'organism', 'airway', 'mouse', 'due']"
      ]
     },
     "execution_count": 6,
     "metadata": {},
     "output_type": "execute_result"
    }
   ],
   "source": [
    "wv.word[:5]"
   ]
  },
  {
   "cell_type": "code",
   "execution_count": 7,
   "metadata": {},
   "outputs": [
    {
     "data": {
      "text/plain": [
       "array([  2.74403191e+00,   3.78401518e+00,  -4.27681804e-01,\n",
       "         1.57612205e+00,   8.17368507e-01,  -4.30196822e-01,\n",
       "        -2.69360900e-01,   1.30753100e+00,  -1.66119266e+00,\n",
       "         9.68618572e-01,   2.33553982e+00,   4.77984369e-01,\n",
       "        -1.94371402e+00,   1.70754075e-01,  -9.06704128e-01,\n",
       "         4.95371222e-01,   1.02233243e+00,  -2.45659328e+00,\n",
       "        -7.90223420e-01,   8.02290797e-01,   1.06625223e+00,\n",
       "        -8.11640620e-01,   2.81526327e-01,  -2.80640781e-01,\n",
       "         1.43135905e+00,   9.33593035e-01,  -3.18225503e+00,\n",
       "        -2.26155472e+00,  -1.35019207e+00,  -2.62796164e-01,\n",
       "         7.58577228e-01,   2.44068414e-01,   1.09568827e-01,\n",
       "         1.96046495e+00,  -1.95055830e+00,  -2.44854164e+00,\n",
       "        -1.03914291e-01,  -7.89862633e-01,   1.35568738e+00,\n",
       "         2.98522925e+00,   6.09386384e-01,   1.18249631e+00,\n",
       "         1.00210652e-01,  -1.42211258e+00,   6.99579716e-01,\n",
       "        -1.74916112e+00,   5.18589497e+00,  -1.13520229e+00,\n",
       "         1.60812068e+00,  -1.47218084e+00,   1.20074654e+00,\n",
       "        -1.76264513e+00,  -2.20993757e+00,   1.68011928e+00,\n",
       "        -4.99257147e-01,   5.81641674e-01,   1.00156522e+00,\n",
       "        -4.29028898e-01,  -5.36172092e-01,  -2.65020013e-01,\n",
       "         1.83931899e+00,  -3.78966117e+00,  -1.59598293e-03,\n",
       "         2.70464510e-01,   1.16848159e+00,   1.15978372e+00,\n",
       "         6.80792928e-01,   1.88318944e+00,  -2.25167608e+00,\n",
       "         1.27911460e+00,  -3.90568614e-01,  -5.39326429e-01,\n",
       "         1.05005729e+00,  -1.78865528e+00,  -2.67810488e+00,\n",
       "         1.82740891e+00,   7.05067217e-01,   5.45674562e-01,\n",
       "         7.35957682e-01,   1.40850389e+00,  -1.64838508e-01,\n",
       "        -3.54448032e+00,   1.77117121e+00,  -3.36665225e+00,\n",
       "         8.72730434e-01,  -6.43447816e-01,   5.29189050e-01,\n",
       "        -1.41794431e+00,  -8.83482337e-01,  -6.13945365e-01,\n",
       "         2.67680556e-01,  -4.75405902e-01,   1.69121802e+00,\n",
       "        -2.41199708e+00,   2.08751127e-01,  -1.10223091e+00,\n",
       "         1.55279958e+00,   4.51301664e-01,   6.71123505e-01,\n",
       "         1.19791949e+00], dtype=float32)"
      ]
     },
     "execution_count": 7,
     "metadata": {},
     "output_type": "execute_result"
    }
   ],
   "source": [
    "wv.vector[0]"
   ]
  },
  {
   "cell_type": "markdown",
   "metadata": {},
   "source": [
    "# Silhouette Coefficient Analysis + PCA for Viz"
   ]
  },
  {
   "cell_type": "code",
   "execution_count": 8,
   "metadata": {
    "collapsed": true
   },
   "outputs": [],
   "source": [
    "range_n_clusters = [2, 3, 4, 5, 6, 7, 8, 9, 10]\n",
    "colors=[\"rgb(255,0,0)\", \"rgb(0,255,0)\", \"rgb(0,0,255)\", \"rgb(255,255,0)\", \"rgb(255,0,255)\", \n",
    "        \"rgb(0,255,255)\", \"rgb(127,0,255)\", \"rgb(255,128,0)\",\"rgb(255,0,127)\", \"rgb(128,128,128)\"]"
   ]
  },
  {
   "cell_type": "code",
   "execution_count": 9,
   "metadata": {},
   "outputs": [
    {
     "name": "stdout",
     "output_type": "stream",
     "text": [
      "Explained variation per principal component: [ 0.11155304  0.07719806  0.06918815]\n",
      "Average of Explained variations: 0.25793924927711487\n"
     ]
    }
   ],
   "source": [
    "from DimensionReduction import DimensionReduction\n",
    "dr = DimensionReduction()\n",
    "\n",
    "vec_3d = dr.PCA(wv.vector, dim=3)"
   ]
  },
  {
   "cell_type": "code",
   "execution_count": 10,
   "metadata": {
    "scrolled": false
   },
   "outputs": [
    {
     "name": "stdout",
     "output_type": "stream",
     "text": [
      "For n_clusters = 2 The average silhouette_score is : 0.0680239\n",
      "For n_clusters = 3 The average silhouette_score is : 0.0492983\n",
      "For n_clusters = 4 The average silhouette_score is : 0.0570824\n",
      "For n_clusters = 5 The average silhouette_score is : 0.0769951\n",
      "For n_clusters = 6 The average silhouette_score is : 0.0711657\n",
      "For n_clusters = 7 The average silhouette_score is : 0.07278\n",
      "For n_clusters = 8 The average silhouette_score is : 0.0396569\n",
      "For n_clusters = 9 The average silhouette_score is : 0.0422402\n",
      "For n_clusters = 10 The average silhouette_score is : 0.0553703\n"
     ]
    }
   ],
   "source": [
    "figures = []\n",
    "\n",
    "for n_clusters in range_n_clusters:\n",
    "    # Create a subplot with 1 row and 2 columns\n",
    "    fig = tools.make_subplots(rows=1, cols=2,\n",
    "                              print_grid=False,\n",
    "                              specs=[[{'is_3d': False}, {'is_3d': True}]])\n",
    "\n",
    "    # The 1st subplot is the silhouette plot\n",
    "    # The silhouette coefficient can range from -1, 1 but in this example all\n",
    "    # lie within [-0.1, 1]\n",
    "    fig['layout']['xaxis1'].update(title='The silhouette coefficient values', range=[-0.1, 1])\n",
    "   \n",
    "    # The (n_clusters+1)*10 is for inserting blank space between silhouette\n",
    "    # plots of individual clusters, to demarcate them clearly.\n",
    "    fig['layout']['yaxis1'].update(title='Cluster label',\n",
    "                                   showticklabels=False,\n",
    "                                   range=[0, len(wv.vector) + (n_clusters + 1) * 10])\n",
    "\n",
    "    # Initialize the clusterer with n_clusters value and a random generator\n",
    "    # seed of 10 for reproducibility.\n",
    "    clusterer = KMeans(n_clusters=n_clusters)\n",
    "    cluster_labels = clusterer.fit_predict(wv.vector)\n",
    "\n",
    "    # The silhouette_score gives the average value for all the samples.\n",
    "    # This gives a perspective into the density and separation of the formed\n",
    "    # clusters\n",
    "    silhouette_avg = silhouette_score(wv.vector, cluster_labels)\n",
    "    print(\"For n_clusters =\", n_clusters,\n",
    "          \"The average silhouette_score is :\", silhouette_avg)\n",
    "\n",
    "    # Compute the silhouette scores for each sample\n",
    "    sample_silhouette_values = silhouette_samples(wv.vector, cluster_labels)\n",
    "    y_lower = 10\n",
    "    \n",
    "    for i in range(n_clusters):\n",
    "        # Aggregate the silhouette scores for samples belonging to\n",
    "        # cluster i, and sort them\n",
    "        ith_cluster_silhouette_values = \\\n",
    "            sample_silhouette_values[cluster_labels == i]\n",
    "\n",
    "        ith_cluster_silhouette_values.sort()\n",
    "\n",
    "        size_cluster_i = ith_cluster_silhouette_values.shape[0]\n",
    "        y_upper = y_lower + size_cluster_i\n",
    "\n",
    "        # colors = cm.spectral(cluster_labels.astype(float) / n_clusters)\n",
    "\n",
    "        filled_area = go.Scatter(y=np.arange(y_lower, y_upper),\n",
    "                                 x=ith_cluster_silhouette_values,\n",
    "                                 mode='lines',\n",
    "                                 showlegend=False,\n",
    "                                 line=dict(width=0.5,\n",
    "                                          color=colors[i]),\n",
    "                                 fill='tozerox')\n",
    "        fig.append_trace(filled_area, 1, 1)\n",
    "        \n",
    "        # Compute the new y_lower for next plot\n",
    "        y_lower = y_upper + 10  # 10 for the 0 samples\n",
    "        \n",
    "\n",
    "    # The vertical line for average silhouette score of all the values\n",
    "    axis_line = go.Scatter(x=[silhouette_avg],\n",
    "                           y=[0, len(wv.vector) + (n_clusters + 1) * 10],\n",
    "                           showlegend=False,\n",
    "                           mode='lines',\n",
    "                           line=dict(color=\"red\", dash='dash',\n",
    "                                     width =1) )\n",
    "\n",
    "    fig.append_trace(axis_line, 1, 1)\n",
    "    \n",
    "    \n",
    "    \n",
    "    \n",
    "    \n",
    "    \n",
    "    # 2nd Plot showing the actual clusters formed\n",
    "    \n",
    "    labeled_vec = list(zip(vec_3d, cluster_labels))\n",
    "    \n",
    "    # Labeling the clusters\n",
    "    for i in range(n_clusters):\n",
    "        ith_cluster_vector = np.array([v for (v,c) in labeled_vec if c == i])\n",
    "        # colors = matplotlib.colors.colorConverter.to_rgb(cm.spectral(float(i) / n_clusters))\n",
    "        # colors = 'rgb'+str(colors)\n",
    "        \n",
    "        clusters = go.Scatter3d(x=ith_cluster_vector[:, 0], \n",
    "                                y=ith_cluster_vector[:, 1], \n",
    "                                z=ith_cluster_vector[:, 2],\n",
    "                                showlegend=False,\n",
    "                                mode='markers',\n",
    "                                marker=dict(\n",
    "                                    color=colors[i],\n",
    "                                    size=3,\n",
    "                                    line=dict(\n",
    "                                        width=0.5\n",
    "                                    )\n",
    "                                )\n",
    "                               )\n",
    "        fig.append_trace(clusters, 1, 2)\n",
    "        \n",
    "    \n",
    "                      \n",
    "        \n",
    "        \n",
    "        \n",
    "\n",
    "    fig['layout'].update(title=\"Silhouette analysis for KMeans clustering on sample data \"\n",
    "                         \"with n_clusters = %d\" % n_clusters)\n",
    "    \n",
    "    figures.append(fig)"
   ]
  },
  {
   "cell_type": "code",
   "execution_count": 11,
   "metadata": {},
   "outputs": [
    {
     "data": {
      "text/html": [
       "<iframe id=\"igraph\" scrolling=\"no\" style=\"border:none;\" seamless=\"seamless\" src=\"https://plot.ly/~JooHongLee/210.embed\" height=\"525px\" width=\"100%\"></iframe>"
      ],
      "text/plain": [
       "<plotly.tools.PlotlyDisplay object>"
      ]
     },
     "execution_count": 11,
     "metadata": {},
     "output_type": "execute_result"
    }
   ],
   "source": [
    "py.iplot(figures[0])"
   ]
  },
  {
   "cell_type": "code",
   "execution_count": 12,
   "metadata": {},
   "outputs": [
    {
     "data": {
      "text/html": [
       "<iframe id=\"igraph\" scrolling=\"no\" style=\"border:none;\" seamless=\"seamless\" src=\"https://plot.ly/~JooHongLee/212.embed\" height=\"525px\" width=\"100%\"></iframe>"
      ],
      "text/plain": [
       "<plotly.tools.PlotlyDisplay object>"
      ]
     },
     "execution_count": 12,
     "metadata": {},
     "output_type": "execute_result"
    }
   ],
   "source": [
    "py.iplot(figures[1])"
   ]
  },
  {
   "cell_type": "code",
   "execution_count": 13,
   "metadata": {
    "scrolled": false
   },
   "outputs": [
    {
     "data": {
      "text/html": [
       "<iframe id=\"igraph\" scrolling=\"no\" style=\"border:none;\" seamless=\"seamless\" src=\"https://plot.ly/~JooHongLee/214.embed\" height=\"525px\" width=\"100%\"></iframe>"
      ],
      "text/plain": [
       "<plotly.tools.PlotlyDisplay object>"
      ]
     },
     "execution_count": 13,
     "metadata": {},
     "output_type": "execute_result"
    }
   ],
   "source": [
    "py.iplot(figures[2])"
   ]
  },
  {
   "cell_type": "code",
   "execution_count": null,
   "metadata": {
    "collapsed": true
   },
   "outputs": [],
   "source": []
  },
  {
   "cell_type": "markdown",
   "metadata": {},
   "source": [
    "# Silhouette Coefficient Analysis + t-SNE for Viz"
   ]
  },
  {
   "cell_type": "code",
   "execution_count": 14,
   "metadata": {
    "collapsed": true
   },
   "outputs": [],
   "source": [
    "range_n_clusters = [2, 3, 4, 5, 6, 7, 8, 9, 10]\n",
    "colors=[\"rgb(255,0,0)\", \"rgb(0,255,0)\", \"rgb(0,0,255)\", \"rgb(255,255,0)\", \"rgb(255,0,255)\", \n",
    "        \"rgb(0,255,255)\", \"rgb(127,0,255)\", \"rgb(255,128,0)\",\"rgb(255,0,127)\", \"rgb(128,128,128)\"]"
   ]
  },
  {
   "cell_type": "code",
   "execution_count": 15,
   "metadata": {},
   "outputs": [
    {
     "name": "stdout",
     "output_type": "stream",
     "text": [
      "[t-SNE] Computing 72 nearest neighbors...\n",
      "[t-SNE] Indexed 73 samples in 0.000s...\n",
      "[t-SNE] Computed neighbors for 73 samples in 0.002s...\n",
      "[t-SNE] Computed conditional probabilities for sample 73 / 73\n",
      "[t-SNE] Mean sigma: 6.408542\n",
      "[t-SNE] KL divergence after 250 iterations with early exaggeration: 93.542938\n",
      "[t-SNE] Error after 1000 iterations: 1.811770\n"
     ]
    }
   ],
   "source": [
    "from DimensionReduction import DimensionReduction\n",
    "dr = DimensionReduction()\n",
    "\n",
    "vec_3d = dr.TSNE(wv.vector, dim=3)"
   ]
  },
  {
   "cell_type": "code",
   "execution_count": 16,
   "metadata": {
    "scrolled": false
   },
   "outputs": [
    {
     "name": "stdout",
     "output_type": "stream",
     "text": [
      "For n_clusters = 2 The average silhouette_score is : 0.0783685\n",
      "For n_clusters = 3 The average silhouette_score is : 0.0623605\n",
      "For n_clusters = 4 The average silhouette_score is : 0.0668652\n",
      "For n_clusters = 5 The average silhouette_score is : 0.0529201\n",
      "For n_clusters = 6 The average silhouette_score is : 0.044938\n",
      "For n_clusters = 7 The average silhouette_score is : 0.0572846\n",
      "For n_clusters = 8 The average silhouette_score is : 0.0495784\n",
      "For n_clusters = 9 The average silhouette_score is : 0.0685568\n",
      "For n_clusters = 10 The average silhouette_score is : 0.0367635\n"
     ]
    }
   ],
   "source": [
    "figures = []\n",
    "\n",
    "for n_clusters in range_n_clusters:\n",
    "    # Create a subplot with 1 row and 2 columns\n",
    "    fig = tools.make_subplots(rows=1, cols=2,\n",
    "                              print_grid=False,\n",
    "                              specs=[[{'is_3d': False}, {'is_3d': True}]])\n",
    "\n",
    "    # The 1st subplot is the silhouette plot\n",
    "    # The silhouette coefficient can range from -1, 1 but in this example all\n",
    "    # lie within [-0.1, 1]\n",
    "    fig['layout']['xaxis1'].update(title='The silhouette coefficient values', range=[-0.1, 1])\n",
    "   \n",
    "    # The (n_clusters+1)*10 is for inserting blank space between silhouette\n",
    "    # plots of individual clusters, to demarcate them clearly.\n",
    "    fig['layout']['yaxis1'].update(title='Cluster label',\n",
    "                                   showticklabels=False,\n",
    "                                   range=[0, len(wv.vector) + (n_clusters + 1) * 10])\n",
    "\n",
    "    # Initialize the clusterer with n_clusters value and a random generator\n",
    "    # seed of 10 for reproducibility.\n",
    "    clusterer = KMeans(n_clusters=n_clusters)\n",
    "    cluster_labels = clusterer.fit_predict(wv.vector)\n",
    "\n",
    "    # The silhouette_score gives the average value for all the samples.\n",
    "    # This gives a perspective into the density and separation of the formed\n",
    "    # clusters\n",
    "    silhouette_avg = silhouette_score(wv.vector, cluster_labels)\n",
    "    print(\"For n_clusters =\", n_clusters,\n",
    "          \"The average silhouette_score is :\", silhouette_avg)\n",
    "\n",
    "    # Compute the silhouette scores for each sample\n",
    "    sample_silhouette_values = silhouette_samples(wv.vector, cluster_labels)\n",
    "    y_lower = 10\n",
    "    \n",
    "    for i in range(n_clusters):\n",
    "        # Aggregate the silhouette scores for samples belonging to\n",
    "        # cluster i, and sort them\n",
    "        ith_cluster_silhouette_values = \\\n",
    "            sample_silhouette_values[cluster_labels == i]\n",
    "\n",
    "        ith_cluster_silhouette_values.sort()\n",
    "\n",
    "        size_cluster_i = ith_cluster_silhouette_values.shape[0]\n",
    "        y_upper = y_lower + size_cluster_i\n",
    "\n",
    "        # colors = cm.spectral(cluster_labels.astype(float) / n_clusters)\n",
    "\n",
    "        filled_area = go.Scatter(y=np.arange(y_lower, y_upper),\n",
    "                                 x=ith_cluster_silhouette_values,\n",
    "                                 mode='lines',\n",
    "                                 showlegend=False,\n",
    "                                 line=dict(width=0.5,\n",
    "                                          color=colors[i]),\n",
    "                                 fill='tozerox')\n",
    "        fig.append_trace(filled_area, 1, 1)\n",
    "        \n",
    "        # Compute the new y_lower for next plot\n",
    "        y_lower = y_upper + 10  # 10 for the 0 samples\n",
    "        \n",
    "\n",
    "    # The vertical line for average silhouette score of all the values\n",
    "    axis_line = go.Scatter(x=[silhouette_avg],\n",
    "                           y=[0, len(wv.vector) + (n_clusters + 1) * 10],\n",
    "                           showlegend=False,\n",
    "                           mode='lines',\n",
    "                           line=dict(color=\"red\", dash='dash',\n",
    "                                     width =1) )\n",
    "\n",
    "    fig.append_trace(axis_line, 1, 1)\n",
    "    \n",
    "    \n",
    "    \n",
    "    \n",
    "    \n",
    "    \n",
    "    # 2nd Plot showing the actual clusters formed    \n",
    "    labeled_vec = list(zip(vec_3d, cluster_labels))\n",
    "    \n",
    "    # Labeling the clusters\n",
    "    for i in range(n_clusters):\n",
    "        ith_cluster_vector = np.array([v for (v,c) in labeled_vec if c == i])\n",
    "        # colors = matplotlib.colors.colorConverter.to_rgb(cm.spectral(float(i) / n_clusters))\n",
    "        # colors = 'rgb'+str(colors)\n",
    "        \n",
    "        clusters = go.Scatter3d(x=ith_cluster_vector[:, 0], \n",
    "                                y=ith_cluster_vector[:, 1], \n",
    "                                z=ith_cluster_vector[:, 2],\n",
    "                                showlegend=False,\n",
    "                                mode='markers',\n",
    "                                marker=dict(\n",
    "                                    color=colors[i],\n",
    "                                    size=3,\n",
    "                                    line=dict(\n",
    "                                        width=0.5\n",
    "                                    )\n",
    "                                )\n",
    "                               )\n",
    "        fig.append_trace(clusters, 1, 2)    \n",
    "                      \n",
    "        \n",
    "        \n",
    "        \n",
    "\n",
    "    fig['layout'].update(title=\"Silhouette analysis for KMeans clustering on sample data \"\n",
    "                         \"with n_clusters = %d\" % n_clusters)\n",
    "    \n",
    "    figures.append(fig)"
   ]
  },
  {
   "cell_type": "code",
   "execution_count": 17,
   "metadata": {},
   "outputs": [
    {
     "data": {
      "text/html": [
       "<iframe id=\"igraph\" scrolling=\"no\" style=\"border:none;\" seamless=\"seamless\" src=\"https://plot.ly/~JooHongLee/216.embed\" height=\"525px\" width=\"100%\"></iframe>"
      ],
      "text/plain": [
       "<plotly.tools.PlotlyDisplay object>"
      ]
     },
     "execution_count": 17,
     "metadata": {},
     "output_type": "execute_result"
    }
   ],
   "source": [
    "py.iplot(figures[0])"
   ]
  },
  {
   "cell_type": "code",
   "execution_count": 18,
   "metadata": {},
   "outputs": [
    {
     "data": {
      "text/html": [
       "<iframe id=\"igraph\" scrolling=\"no\" style=\"border:none;\" seamless=\"seamless\" src=\"https://plot.ly/~JooHongLee/218.embed\" height=\"525px\" width=\"100%\"></iframe>"
      ],
      "text/plain": [
       "<plotly.tools.PlotlyDisplay object>"
      ]
     },
     "execution_count": 18,
     "metadata": {},
     "output_type": "execute_result"
    }
   ],
   "source": [
    "py.iplot(figures[1])"
   ]
  },
  {
   "cell_type": "code",
   "execution_count": 19,
   "metadata": {
    "scrolled": false
   },
   "outputs": [
    {
     "data": {
      "text/html": [
       "<iframe id=\"igraph\" scrolling=\"no\" style=\"border:none;\" seamless=\"seamless\" src=\"https://plot.ly/~JooHongLee/220.embed\" height=\"525px\" width=\"100%\"></iframe>"
      ],
      "text/plain": [
       "<plotly.tools.PlotlyDisplay object>"
      ]
     },
     "execution_count": 19,
     "metadata": {},
     "output_type": "execute_result"
    }
   ],
   "source": [
    "py.iplot(figures[2])"
   ]
  },
  {
   "cell_type": "code",
   "execution_count": null,
   "metadata": {
    "collapsed": true
   },
   "outputs": [],
   "source": []
  }
 ],
 "metadata": {
  "kernelspec": {
   "display_name": "Python 3",
   "language": "python",
   "name": "python3"
  },
  "language_info": {
   "codemirror_mode": {
    "name": "ipython",
    "version": 3
   },
   "file_extension": ".py",
   "mimetype": "text/x-python",
   "name": "python",
   "nbconvert_exporter": "python",
   "pygments_lexer": "ipython3",
   "version": "3.6.1"
  }
 },
 "nbformat": 4,
 "nbformat_minor": 2
}
