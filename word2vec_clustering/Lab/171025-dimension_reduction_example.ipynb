{
 "cells": [
  {
   "cell_type": "code",
   "execution_count": 1,
   "metadata": {
    "scrolled": true
   },
   "outputs": [
    {
     "data": {
      "text/plain": [
       "['cause', 'cause', 'cause', 'cause', 'cause']"
      ]
     },
     "execution_count": 1,
     "metadata": {},
     "output_type": "execute_result"
    }
   ],
   "source": [
    "import data_helper\n",
    "_,_,relation = data_helper.get_triplet()\n",
    "relation[:5]"
   ]
  },
  {
   "cell_type": "code",
   "execution_count": 2,
   "metadata": {},
   "outputs": [
    {
     "data": {
      "text/plain": [
       "['inject', 'consumption', 'challenge', 'obtain', 'bacterium']"
      ]
     },
     "execution_count": 2,
     "metadata": {},
     "output_type": "execute_result"
    }
   ],
   "source": [
    "relation = list(set(relation))\n",
    "relation[:5]"
   ]
  },
  {
   "cell_type": "code",
   "execution_count": 3,
   "metadata": {
    "scrolled": true
   },
   "outputs": [
    {
     "name": "stdout",
     "output_type": "stream",
     "text": [
      "Loading a pre-trained model...\n",
      "Load success!\n"
     ]
    }
   ],
   "source": [
    "from WordVector import WordVector\n",
    "wv = WordVector(relation)"
   ]
  },
  {
   "cell_type": "code",
   "execution_count": 4,
   "metadata": {},
   "outputs": [
    {
     "name": "stdout",
     "output_type": "stream",
     "text": [
      "['inject', 'consumption', 'challenge', 'obtain', 'bacterium']\n",
      "[-1.33314824 -1.58096862  2.12493587  1.64420903 -0.10485321 -2.43186951\n",
      "  3.95772815  0.08328806  1.41213    -0.916511    1.5400852  -4.16781569\n",
      " -0.36137623  2.85580683  0.68394428  1.15414011  0.38259569 -2.97929215\n",
      "  0.48683581 -0.53081936  2.21855402  2.22688413 -3.34862518 -0.50675297\n",
      "  2.46310186  2.52295923  1.6219703   0.0986382   2.15589666  3.18452048\n",
      "  3.7397697   0.49141949 -1.37369084  1.26532125  0.07831334 -0.46050414\n",
      "  1.23379862  0.47328851  2.68495607  0.07863613  0.27759886  1.33142579\n",
      " -3.64814448 -1.50534999 -2.20605302 -2.67642426 -0.25202557 -1.00865281\n",
      " -0.52723128 -2.32481384  3.08992195 -3.13046694 -0.61880714  1.13362086\n",
      "  0.87304956  3.05850148 -0.89255083 -1.3558054  -0.28676715 -0.13855644\n",
      "  3.28903961 -0.8855989  -2.26766753 -3.417521   -1.75827789 -0.40872625\n",
      "  0.86030602 -1.1093142   2.01182055 -0.20646632 -3.08600044 -2.690696\n",
      "  4.31665468 -2.5673697   1.53242409  2.87892795  1.61789548 -0.97763902\n",
      " -3.55296373  1.62386131 -0.04934809  1.08131146  0.94518244 -2.3606987\n",
      " -2.04591918  0.54049736  0.70031536 -1.15947235 -0.58177137 -0.64570576\n",
      " -1.16883802  0.30585903 -0.6620838   0.86795944  1.54283142  0.92879188\n",
      "  1.77427483 -1.11123192  4.08649683 -0.75759572]\n"
     ]
    }
   ],
   "source": [
    "print(wv.word[:5])\n",
    "print(wv.vector[0])"
   ]
  },
  {
   "cell_type": "markdown",
   "metadata": {},
   "source": [
    "# 1. Dimension Reduction by PCA"
   ]
  },
  {
   "cell_type": "code",
   "execution_count": 5,
   "metadata": {
    "collapsed": true
   },
   "outputs": [],
   "source": [
    "%load_ext autoreload\n",
    "%autoreload 2"
   ]
  },
  {
   "cell_type": "code",
   "execution_count": 6,
   "metadata": {
    "collapsed": true
   },
   "outputs": [],
   "source": [
    "from DimensionReduction import DimensionReduction"
   ]
  },
  {
   "cell_type": "code",
   "execution_count": 7,
   "metadata": {},
   "outputs": [],
   "source": [
    "dr = DimensionReduction()"
   ]
  },
  {
   "cell_type": "code",
   "execution_count": 8,
   "metadata": {},
   "outputs": [
    {
     "name": "stdout",
     "output_type": "stream",
     "text": [
      "Explained variation per principal component: [ 0.10958385  0.0791663   0.07577027]\n"
     ]
    },
    {
     "data": {
      "text/plain": [
       "array([[ -1.39188933,   0.27839649, -11.73094463],\n",
       "       [  1.47513425,   3.65268445,  -5.00096893],\n",
       "       [  4.13783216,   2.42425704,  -1.86621952]], dtype=float32)"
      ]
     },
     "execution_count": 8,
     "metadata": {},
     "output_type": "execute_result"
    }
   ],
   "source": [
    "pca_vec = dr.PCA(wv.vector)\n",
    "pca_vec[:3]"
   ]
  },
  {
   "cell_type": "markdown",
   "metadata": {},
   "source": [
    "## Visualization by plotly"
   ]
  },
  {
   "cell_type": "code",
   "execution_count": 9,
   "metadata": {
    "collapsed": true
   },
   "outputs": [],
   "source": [
    "import plotly.plotly as py\n",
    "import plotly.graph_objs as go\n",
    "\n",
    "import numpy as np"
   ]
  },
  {
   "cell_type": "code",
   "execution_count": 10,
   "metadata": {},
   "outputs": [
    {
     "name": "stdout",
     "output_type": "stream",
     "text": [
      "High five! You successfully sent some data to your account on plotly. View your plot in your browser at https://plot.ly/~JooHongLee/0 or inside your plot.ly account where it is named 'simple-3d-scatter'\n"
     ]
    },
    {
     "data": {
      "text/html": [
       "<iframe id=\"igraph\" scrolling=\"no\" style=\"border:none;\" seamless=\"seamless\" src=\"https://plot.ly/~JooHongLee/0.embed\" height=\"525px\" width=\"100%\"></iframe>"
      ],
      "text/plain": [
       "<plotly.tools.PlotlyDisplay object>"
      ]
     },
     "execution_count": 10,
     "metadata": {},
     "output_type": "execute_result"
    }
   ],
   "source": [
    "x, y, z = pca_vec.T\n",
    "trace1 = go.Scatter3d(\n",
    "    x=x,\n",
    "    y=y,\n",
    "    z=z,\n",
    "    mode='markers',\n",
    "    marker=dict(\n",
    "        size=3,\n",
    "        line=dict(\n",
    "            color='rgba(217, 217, 217, 0.14)',\n",
    "            width=0.5\n",
    "        ),\n",
    "        opacity=0.8\n",
    "    )\n",
    ")\n",
    "\n",
    "data = [trace1]\n",
    "layout = go.Layout(\n",
    "    margin=dict(\n",
    "        l=0,\n",
    "        r=0,\n",
    "        b=0,\n",
    "        t=0\n",
    "    )\n",
    ")\n",
    "fig = go.Figure(data=data, layout=layout)\n",
    "py.iplot(fig, filename='simple-3d-scatter')"
   ]
  },
  {
   "cell_type": "markdown",
   "metadata": {},
   "source": [
    "# Dimension Reduction by T-SNE"
   ]
  },
  {
   "cell_type": "code",
   "execution_count": 15,
   "metadata": {},
   "outputs": [
    {
     "name": "stdout",
     "output_type": "stream",
     "text": [
      "[t-SNE] Computing 64 nearest neighbors...\n",
      "[t-SNE] Indexed 65 samples in 0.000s...\n",
      "[t-SNE] Computed neighbors for 65 samples in 0.002s...\n",
      "[t-SNE] Computed conditional probabilities for sample 65 / 65\n",
      "[t-SNE] Mean sigma: 10.770329\n",
      "[t-SNE] KL divergence after 250 iterations with early exaggeration: 89.773003\n",
      "[t-SNE] Error after 500 iterations: 2.521277\n"
     ]
    }
   ],
   "source": [
    "tsne_vec = dr.TSNE(wv.vector)"
   ]
  },
  {
   "cell_type": "code",
   "execution_count": 16,
   "metadata": {},
   "outputs": [
    {
     "data": {
      "text/plain": [
       "array([[ 147.36103821,   10.09385109,    1.40971434],\n",
       "       [ -25.48371315, -111.53601837,  -56.68553162],\n",
       "       [ -44.79855347,   91.85840607,  -25.65582848]], dtype=float32)"
      ]
     },
     "execution_count": 16,
     "metadata": {},
     "output_type": "execute_result"
    }
   ],
   "source": [
    "tsne_vec[:3]"
   ]
  },
  {
   "cell_type": "markdown",
   "metadata": {},
   "source": [
    "## Visualization by plotly"
   ]
  },
  {
   "cell_type": "code",
   "execution_count": 17,
   "metadata": {
    "collapsed": true
   },
   "outputs": [],
   "source": [
    "import plotly.plotly as py\n",
    "import plotly.graph_objs as go\n",
    "\n",
    "import numpy as np"
   ]
  },
  {
   "cell_type": "code",
   "execution_count": 18,
   "metadata": {
    "scrolled": false
   },
   "outputs": [
    {
     "name": "stdout",
     "output_type": "stream",
     "text": [
      "High five! You successfully sent some data to your account on plotly. View your plot in your browser at https://plot.ly/~JooHongLee/0 or inside your plot.ly account where it is named 'simple-3d-scatter'\n"
     ]
    },
    {
     "data": {
      "text/html": [
       "<iframe id=\"igraph\" scrolling=\"no\" style=\"border:none;\" seamless=\"seamless\" src=\"https://plot.ly/~JooHongLee/0.embed\" height=\"525px\" width=\"100%\"></iframe>"
      ],
      "text/plain": [
       "<plotly.tools.PlotlyDisplay object>"
      ]
     },
     "execution_count": 18,
     "metadata": {},
     "output_type": "execute_result"
    }
   ],
   "source": [
    "x, y, z = tsne_vec.T\n",
    "trace1 = go.Scatter3d(\n",
    "    x=x,\n",
    "    y=y,\n",
    "    z=z,\n",
    "    mode='markers',\n",
    "    marker=dict(\n",
    "        size=3,\n",
    "        line=dict(\n",
    "            color='rgba(217, 217, 217, 0.14)',\n",
    "            width=0.5\n",
    "        ),\n",
    "        opacity=0.8\n",
    "    )\n",
    ")\n",
    "\n",
    "data = [trace1]\n",
    "layout = go.Layout(\n",
    "    margin=dict(\n",
    "        l=0,\n",
    "        r=0,\n",
    "        b=0,\n",
    "        t=0\n",
    "    )\n",
    ")\n",
    "fig = go.Figure(data=data, layout=layout)\n",
    "py.iplot(fig, filename='simple-3d-scatter')"
   ]
  },
  {
   "cell_type": "code",
   "execution_count": null,
   "metadata": {
    "collapsed": true
   },
   "outputs": [],
   "source": []
  }
 ],
 "metadata": {
  "kernelspec": {
   "display_name": "Python 3",
   "language": "python",
   "name": "python3"
  },
  "language_info": {
   "codemirror_mode": {
    "name": "ipython",
    "version": 3
   },
   "file_extension": ".py",
   "mimetype": "text/x-python",
   "name": "python",
   "nbconvert_exporter": "python",
   "pygments_lexer": "ipython3",
   "version": "3.6.1"
  }
 },
 "nbformat": 4,
 "nbformat_minor": 2
}
