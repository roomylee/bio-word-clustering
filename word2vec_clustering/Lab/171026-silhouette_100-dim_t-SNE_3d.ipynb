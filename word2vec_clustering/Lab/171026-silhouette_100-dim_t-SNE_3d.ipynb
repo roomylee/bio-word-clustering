{
 "cells": [
  {
   "cell_type": "code",
   "execution_count": 1,
   "metadata": {
    "collapsed": true
   },
   "outputs": [],
   "source": [
    "import plotly.plotly as py\n",
    "import plotly.graph_objs as go\n",
    "from plotly import tools\n",
    "\n",
    "from __future__ import print_function\n",
    "\n",
    "from sklearn.datasets import make_blobs\n",
    "from sklearn.cluster import KMeans, DBSCAN\n",
    "from sklearn.metrics import silhouette_samples, silhouette_score\n",
    "\n",
    "import matplotlib\n",
    "import matplotlib.pyplot as plt\n",
    "import matplotlib.cm as cm\n",
    "import numpy as np"
   ]
  },
  {
   "cell_type": "code",
   "execution_count": 2,
   "metadata": {
    "collapsed": true
   },
   "outputs": [],
   "source": [
    "import os, sys\n",
    "sys.path.append(os.path.split(os.getcwd())[0])\n",
    "\n",
    "from WordVector import WordVector"
   ]
  },
  {
   "cell_type": "code",
   "execution_count": 3,
   "metadata": {},
   "outputs": [
    {
     "data": {
      "text/plain": [
       "['cause', 'cause', 'cause', 'cause', 'cause']"
      ]
     },
     "execution_count": 3,
     "metadata": {},
     "output_type": "execute_result"
    }
   ],
   "source": [
    "import data_helper\n",
    "_,_,relation = data_helper.get_triplet()\n",
    "relation[:5]"
   ]
  },
  {
   "cell_type": "code",
   "execution_count": 4,
   "metadata": {},
   "outputs": [
    {
     "data": {
      "text/plain": [
       "['use', 'pathogen', 'capacity', 'model', 'effective']"
      ]
     },
     "execution_count": 4,
     "metadata": {},
     "output_type": "execute_result"
    }
   ],
   "source": [
    "relation = list(set(relation))\n",
    "relation[:5]"
   ]
  },
  {
   "cell_type": "code",
   "execution_count": 5,
   "metadata": {},
   "outputs": [
    {
     "name": "stdout",
     "output_type": "stream",
     "text": [
      "Loading a pre-trained model...\n",
      "Load success!\n"
     ]
    }
   ],
   "source": [
    "wv = WordVector(relation)"
   ]
  },
  {
   "cell_type": "code",
   "execution_count": 6,
   "metadata": {},
   "outputs": [
    {
     "data": {
      "text/plain": [
       "['use', 'pathogen', 'capacity', 'model', 'effective']"
      ]
     },
     "execution_count": 6,
     "metadata": {},
     "output_type": "execute_result"
    }
   ],
   "source": [
    "wv.word[:5]"
   ]
  },
  {
   "cell_type": "code",
   "execution_count": 7,
   "metadata": {},
   "outputs": [
    {
     "data": {
      "text/plain": [
       "array([ 0.56000578,  1.29175377, -3.11616039,  5.55713272,  2.463449  ,\n",
       "       -2.62066865,  0.98811316,  1.44295514,  1.42317593,  0.0818524 ,\n",
       "        1.10450172, -2.15608644, -0.72376937, -0.82195336,  2.13655448,\n",
       "        0.92574567,  2.22146559,  0.27623349,  1.50089836,  2.51285648,\n",
       "        1.1609503 ,  3.31114197,  0.38355905, -0.39496148,  1.14327848,\n",
       "        1.39610481,  3.7952292 ,  2.33295536,  1.99053347,  2.00406003,\n",
       "       -1.33346498, -1.20852244, -2.20427084,  5.03641987, -0.88567579,\n",
       "        0.08172032,  1.76758218, -0.5315519 , -1.07047224,  3.41662407,\n",
       "        2.20057607, -2.83539677,  0.16929518, -4.66412735, -0.08891623,\n",
       "       -1.90765929,  0.32990944, -1.12298715, -0.54387277, -1.02410674,\n",
       "        2.99077439,  0.08144826,  0.47380105, -2.57034826, -2.43224144,\n",
       "       -2.52519035,  6.80622435,  0.57964975, -1.51540613,  0.09802679,\n",
       "        0.34399098, -0.90979362, -2.13480592, -2.13702583,  0.26595348,\n",
       "        1.7715323 , -0.91994745, -0.41071165, -0.49783492,  2.92136407,\n",
       "       -3.70731115, -2.34730101,  0.15791507, -0.49630162, -1.29293334,\n",
       "        2.18788481,  2.69027162, -1.70731306, -0.50238687, -2.51725173,\n",
       "       -3.86063123, -1.0858345 ,  2.08658528, -0.76561707, -1.80794144,\n",
       "       -0.28881198, -1.55483401,  0.53816414, -1.26977026,  4.09281874,\n",
       "       -1.71755695,  3.70308876, -2.61328411,  0.93525743, -1.99696124,\n",
       "       -0.66181391, -0.75083095, -1.11608505, -2.52302742,  1.6077255 ], dtype=float32)"
      ]
     },
     "execution_count": 7,
     "metadata": {},
     "output_type": "execute_result"
    }
   ],
   "source": [
    "wv.vector[0]"
   ]
  },
  {
   "cell_type": "markdown",
   "metadata": {},
   "source": [
    "# t-SNE: 100dim -> 3dim"
   ]
  },
  {
   "cell_type": "code",
   "execution_count": 8,
   "metadata": {},
   "outputs": [
    {
     "name": "stdout",
     "output_type": "stream",
     "text": [
      "[t-SNE] Computing 72 nearest neighbors...\n",
      "[t-SNE] Indexed 73 samples in 0.008s...\n",
      "[t-SNE] Computed neighbors for 73 samples in 0.005s...\n",
      "[t-SNE] Computed conditional probabilities for sample 73 / 73\n",
      "[t-SNE] Mean sigma: 6.408542\n",
      "[t-SNE] KL divergence after 250 iterations with early exaggeration: 112.661453\n",
      "[t-SNE] Error after 1000 iterations: 2.624798\n"
     ]
    },
    {
     "data": {
      "text/plain": [
       "array([[ 170.52023315,  104.8395462 ,   23.09009552],\n",
       "       [-171.39762878, -173.59378052,  -93.86156464],\n",
       "       [-200.58738708,   59.7399826 , -164.27119446]], dtype=float32)"
      ]
     },
     "execution_count": 8,
     "metadata": {},
     "output_type": "execute_result"
    }
   ],
   "source": [
    "from DimensionReduction import DimensionReduction\n",
    "dr = DimensionReduction()\n",
    "vec_3d = dr.TSNE(wv.vector, dim=3)\n",
    "vec_3d[:3]"
   ]
  },
  {
   "cell_type": "markdown",
   "metadata": {},
   "source": [
    "# Silhouette Coefficient Analysis"
   ]
  },
  {
   "cell_type": "code",
   "execution_count": 9,
   "metadata": {
    "collapsed": true
   },
   "outputs": [],
   "source": [
    "range_n_clusters = [2, 3, 4, 5, 6, 7, 8, 9, 10]\n",
    "colors=[\"rgb(255,0,0)\", \"rgb(0,255,0)\", \"rgb(0,0,255)\", \"rgb(255,255,0)\", \"rgb(255,0,255)\", \n",
    "        \"rgb(0,255,255)\", \"rgb(127,0,255)\", \"rgb(255,128,0)\",\"rgb(255,0,127)\", \"rgb(128,128,128)\"]"
   ]
  },
  {
   "cell_type": "code",
   "execution_count": 10,
   "metadata": {
    "scrolled": false
   },
   "outputs": [
    {
     "name": "stdout",
     "output_type": "stream",
     "text": [
      "For n_clusters = 2 The average silhouette_score is : 0.802794\n",
      "For n_clusters = 3 The average silhouette_score is : 0.79318\n",
      "For n_clusters = 4 The average silhouette_score is : 0.678565\n",
      "For n_clusters = 5 The average silhouette_score is : 0.214122\n",
      "For n_clusters = 6 The average silhouette_score is : 0.233033\n",
      "For n_clusters = 7 The average silhouette_score is : 0.221285\n",
      "For n_clusters = 8 The average silhouette_score is : 0.218162\n",
      "For n_clusters = 9 The average silhouette_score is : 0.214152\n",
      "For n_clusters = 10 The average silhouette_score is : 0.21334\n"
     ]
    }
   ],
   "source": [
    "figures = []\n",
    "\n",
    "for n_clusters in range_n_clusters:\n",
    "    # Create a subplot with 1 row and 2 columns\n",
    "    fig = tools.make_subplots(rows=1, cols=2,\n",
    "                              print_grid=False,\n",
    "                              specs=[[{'is_3d': False}, {'is_3d': True}]])\n",
    "\n",
    "    # The 1st subplot is the silhouette plot\n",
    "    # The silhouette coefficient can range from -1, 1 but in this example all\n",
    "    # lie within [-0.1, 1]\n",
    "    fig['layout']['xaxis1'].update(title='The silhouette coefficient values', range=[-0.1, 1])\n",
    "   \n",
    "    # The (n_clusters+1)*10 is for inserting blank space between silhouette\n",
    "    # plots of individual clusters, to demarcate them clearly.\n",
    "    fig['layout']['yaxis1'].update(title='Cluster label',\n",
    "                                   showticklabels=False,\n",
    "                                   range=[0, len(vec_3d) + (n_clusters + 1) * 10])\n",
    "\n",
    "    # Initialize the clusterer with n_clusters value and a random generator\n",
    "    # seed of 10 for reproducibility.\n",
    "    clusterer = KMeans(n_clusters=n_clusters)\n",
    "    cluster_labels = clusterer.fit_predict(vec_3d)\n",
    "\n",
    "    # The silhouette_score gives the average value for all the samples.\n",
    "    # This gives a perspective into the density and separation of the formed\n",
    "    # clusters\n",
    "    silhouette_avg = silhouette_score(vec_3d, cluster_labels)\n",
    "    print(\"For n_clusters =\", n_clusters,\n",
    "          \"The average silhouette_score is :\", silhouette_avg)\n",
    "\n",
    "    # Compute the silhouette scores for each sample\n",
    "    sample_silhouette_values = silhouette_samples(vec_3d, cluster_labels)\n",
    "    y_lower = 10\n",
    "    \n",
    "    for i in range(n_clusters):\n",
    "        # Aggregate the silhouette scores for samples belonging to\n",
    "        # cluster i, and sort them\n",
    "        ith_cluster_silhouette_values = \\\n",
    "            sample_silhouette_values[cluster_labels == i]\n",
    "\n",
    "        ith_cluster_silhouette_values.sort()\n",
    "\n",
    "        size_cluster_i = ith_cluster_silhouette_values.shape[0]\n",
    "        y_upper = y_lower + size_cluster_i\n",
    "\n",
    "        # colors = cm.spectral(cluster_labels.astype(float) / n_clusters)\n",
    "\n",
    "        filled_area = go.Scatter(y=np.arange(y_lower, y_upper),\n",
    "                                 x=ith_cluster_silhouette_values,\n",
    "                                 mode='lines',\n",
    "                                 showlegend=False,\n",
    "                                 line=dict(width=0.5,\n",
    "                                          color=colors[i]),\n",
    "                                 fill='tozerox')\n",
    "        fig.append_trace(filled_area, 1, 1)\n",
    "        \n",
    "        # Compute the new y_lower for next plot\n",
    "        y_lower = y_upper + 10  # 10 for the 0 samples\n",
    "        \n",
    "\n",
    "    # The vertical line for average silhouette score of all the values\n",
    "    axis_line = go.Scatter(x=[silhouette_avg],\n",
    "                           y=[0, len(vec_3d) + (n_clusters + 1) * 10],\n",
    "                           showlegend=False,\n",
    "                           mode='lines',\n",
    "                           line=dict(color=\"red\", dash='dash',\n",
    "                                     width =1) )\n",
    "\n",
    "    fig.append_trace(axis_line, 1, 1)\n",
    "    \n",
    "    \n",
    "    \n",
    "    \n",
    "    \n",
    "    # 2nd Plot showing the actual clusters formed\n",
    "    \n",
    "    labeled_vec = list(zip(vec_3d, cluster_labels))\n",
    "    # Labeling the clusters\n",
    "    centers_ = clusterer.cluster_centers_\n",
    "    for i in range(n_clusters):\n",
    "        ith_cluster_vector = np.array([v for (v,c) in labeled_vec if c == i])\n",
    "        # colors = matplotlib.colors.colorConverter.to_rgb(cm.spectral(float(i) / n_clusters))\n",
    "        # colors = 'rgb'+str(colors)\n",
    "        \n",
    "        clusters = go.Scatter3d(x=ith_cluster_vector[:, 0], \n",
    "                                y=ith_cluster_vector[:, 1], \n",
    "                                z=ith_cluster_vector[:, 2],\n",
    "                                showlegend=False,\n",
    "                                mode='markers',\n",
    "                                marker=dict(\n",
    "                                    color=colors[i],\n",
    "                                    size=3,\n",
    "                                    line=dict(\n",
    "                                        width=0.5\n",
    "                                    )\n",
    "                                )\n",
    "                               )\n",
    "        fig.append_trace(clusters, 1, 2)\n",
    "        \n",
    "        # Draw white circles at cluster centers\n",
    "        centers = go.Scatter3d(x=centers_[i][0], \n",
    "                               y=centers_[i][1],\n",
    "                               z=centers_[i][2],\n",
    "                               showlegend=False,\n",
    "                               mode='markers',\n",
    "                               marker=dict(\n",
    "                                   color=colors[i], size=5,\n",
    "                                   line=dict(color='black', width=1))\n",
    "                               )\n",
    "\n",
    "        fig.append_trace(centers, 1, 2)\n",
    "    \n",
    "                      \n",
    "        \n",
    "        \n",
    "        \n",
    "\n",
    "    fig['layout'].update(title=\"Silhouette analysis for KMeans clustering on sample data \"\n",
    "                         \"with n_clusters = %d\" % n_clusters)\n",
    "    \n",
    "    figures.append(fig)"
   ]
  },
  {
   "cell_type": "code",
   "execution_count": 11,
   "metadata": {},
   "outputs": [
    {
     "data": {
      "text/html": [
       "<iframe id=\"igraph\" scrolling=\"no\" style=\"border:none;\" seamless=\"seamless\" src=\"https://plot.ly/~JooHongLee/168.embed\" height=\"525px\" width=\"100%\"></iframe>"
      ],
      "text/plain": [
       "<plotly.tools.PlotlyDisplay object>"
      ]
     },
     "execution_count": 11,
     "metadata": {},
     "output_type": "execute_result"
    }
   ],
   "source": [
    "py.iplot(figures[0])"
   ]
  },
  {
   "cell_type": "code",
   "execution_count": 12,
   "metadata": {},
   "outputs": [
    {
     "data": {
      "text/html": [
       "<iframe id=\"igraph\" scrolling=\"no\" style=\"border:none;\" seamless=\"seamless\" src=\"https://plot.ly/~JooHongLee/170.embed\" height=\"525px\" width=\"100%\"></iframe>"
      ],
      "text/plain": [
       "<plotly.tools.PlotlyDisplay object>"
      ]
     },
     "execution_count": 12,
     "metadata": {},
     "output_type": "execute_result"
    }
   ],
   "source": [
    "py.iplot(figures[1])"
   ]
  },
  {
   "cell_type": "code",
   "execution_count": 13,
   "metadata": {},
   "outputs": [
    {
     "data": {
      "text/html": [
       "<iframe id=\"igraph\" scrolling=\"no\" style=\"border:none;\" seamless=\"seamless\" src=\"https://plot.ly/~JooHongLee/172.embed\" height=\"525px\" width=\"100%\"></iframe>"
      ],
      "text/plain": [
       "<plotly.tools.PlotlyDisplay object>"
      ]
     },
     "execution_count": 13,
     "metadata": {},
     "output_type": "execute_result"
    }
   ],
   "source": [
    "py.iplot(figures[2])"
   ]
  },
  {
   "cell_type": "code",
   "execution_count": null,
   "metadata": {
    "collapsed": true
   },
   "outputs": [],
   "source": []
  },
  {
   "cell_type": "code",
   "execution_count": null,
   "metadata": {
    "collapsed": true
   },
   "outputs": [],
   "source": []
  },
  {
   "cell_type": "code",
   "execution_count": null,
   "metadata": {
    "collapsed": true
   },
   "outputs": [],
   "source": []
  },
  {
   "cell_type": "code",
   "execution_count": null,
   "metadata": {
    "collapsed": true
   },
   "outputs": [],
   "source": []
  }
 ],
 "metadata": {
  "kernelspec": {
   "display_name": "Python 3",
   "language": "python",
   "name": "python3"
  },
  "language_info": {
   "codemirror_mode": {
    "name": "ipython",
    "version": 3
   },
   "file_extension": ".py",
   "mimetype": "text/x-python",
   "name": "python",
   "nbconvert_exporter": "python",
   "pygments_lexer": "ipython3",
   "version": "3.6.1"
  }
 },
 "nbformat": 4,
 "nbformat_minor": 2
}
