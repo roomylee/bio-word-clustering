{
 "cells": [
  {
   "cell_type": "code",
   "execution_count": 3,
   "metadata": {
    "collapsed": true
   },
   "outputs": [],
   "source": [
    "import plotly.plotly as py\n",
    "import plotly.graph_objs as go\n",
    "from plotly import tools\n",
    "\n",
    "from __future__ import print_function\n",
    "\n",
    "from sklearn.datasets import make_blobs\n",
    "from sklearn.cluster import KMeans, DBSCAN\n",
    "from sklearn.metrics import silhouette_samples, silhouette_score\n",
    "\n",
    "import matplotlib\n",
    "import matplotlib.pyplot as plt\n",
    "import matplotlib.cm as cm\n",
    "import numpy as np"
   ]
  },
  {
   "cell_type": "code",
   "execution_count": 4,
   "metadata": {
    "collapsed": true
   },
   "outputs": [],
   "source": [
    "import os, sys\n",
    "sys.path.append(os.path.split(os.getcwd())[0])\n",
    "\n",
    "from WordVector import WordVector"
   ]
  },
  {
   "cell_type": "code",
   "execution_count": 5,
   "metadata": {},
   "outputs": [
    {
     "data": {
      "text/plain": [
       "['cause', 'cause', 'cause', 'cause', 'cause']"
      ]
     },
     "execution_count": 5,
     "metadata": {},
     "output_type": "execute_result"
    }
   ],
   "source": [
    "import data_helper\n",
    "_,_,relation = data_helper.get_triplet()\n",
    "relation[:5]"
   ]
  },
  {
   "cell_type": "code",
   "execution_count": 6,
   "metadata": {},
   "outputs": [
    {
     "data": {
      "text/plain": [
       "['result', 'prevent', 'accompany', 'gram-negative', 'initiate']"
      ]
     },
     "execution_count": 6,
     "metadata": {},
     "output_type": "execute_result"
    }
   ],
   "source": [
    "relation = list(set(relation))\n",
    "relation[:5]"
   ]
  },
  {
   "cell_type": "code",
   "execution_count": 7,
   "metadata": {},
   "outputs": [
    {
     "name": "stdout",
     "output_type": "stream",
     "text": [
      "Loading a pre-trained model...\n",
      "Load success!\n"
     ]
    }
   ],
   "source": [
    "wv = WordVector(relation)"
   ]
  },
  {
   "cell_type": "code",
   "execution_count": 8,
   "metadata": {},
   "outputs": [
    {
     "data": {
      "text/plain": [
       "['result', 'prevent', 'accompany', 'gram-negative', 'initiate']"
      ]
     },
     "execution_count": 8,
     "metadata": {},
     "output_type": "execute_result"
    }
   ],
   "source": [
    "wv.word[:5]"
   ]
  },
  {
   "cell_type": "code",
   "execution_count": 9,
   "metadata": {},
   "outputs": [
    {
     "data": {
      "text/plain": [
       "array([-0.74980611,  3.26506686,  2.16919637, -1.6358254 , -2.86456966,\n",
       "       -0.72669113, -1.68594217,  1.36314213, -1.81251729, -0.08911414,\n",
       "        2.74543476,  0.65284687,  0.85167217, -0.81214362, -0.86352259,\n",
       "        1.5679059 ,  2.04781485,  1.12430871, -0.79476273,  2.59588313,\n",
       "        1.61632693, -4.25633717, -1.68846977, -1.08155656, -0.93635136,\n",
       "       -1.57342398, -5.58548832,  2.67990899,  0.31876048, -0.29126978,\n",
       "        1.64317811,  1.78237104,  0.8678447 , -0.9605661 ,  2.86079121,\n",
       "       -2.44644594,  1.60718644, -0.1497878 , -3.70028758,  2.22714853,\n",
       "       -1.93805015, -2.48986506,  1.86366177, -3.2291317 ,  1.66404438,\n",
       "        1.29343855,  0.79689205, -1.55539024,  2.04541111,  0.22868253,\n",
       "       -2.60663724, -1.94535196,  0.54713982,  1.02404118,  1.67203939,\n",
       "       -2.21519685,  3.67146468,  2.04408407, -3.97368431, -1.58429825,\n",
       "        2.17803407, -1.11728048, -1.87352455, -3.55320001, -0.86778229,\n",
       "       -2.55176663,  3.50662804,  0.15311995,  0.38133213, -3.41574073,\n",
       "       -1.84697247,  2.02139902, -2.06398249, -0.08053181,  0.73084575,\n",
       "       -0.16890454, -2.06556225, -1.65561891,  1.07747543,  0.08242265,\n",
       "        1.3258456 , -2.98962593,  0.29975185,  0.26008618, -0.58545017,\n",
       "       -3.47592139, -1.62263656,  1.7798202 , -2.19109011,  1.12301898,\n",
       "        1.03999186,  2.89075232, -0.71111614,  2.32135773, -0.66773945,\n",
       "        1.89273179,  1.92180216,  2.80919218, -1.48080719,  0.49009356], dtype=float32)"
      ]
     },
     "execution_count": 9,
     "metadata": {},
     "output_type": "execute_result"
    }
   ],
   "source": [
    "wv.vector[0]"
   ]
  },
  {
   "cell_type": "markdown",
   "metadata": {},
   "source": [
    "# PCA: 100dim -> 3dim"
   ]
  },
  {
   "cell_type": "code",
   "execution_count": 10,
   "metadata": {},
   "outputs": [
    {
     "name": "stdout",
     "output_type": "stream",
     "text": [
      "Explained variation per principal component: [ 0.11155299  0.07719805  0.06918809]\n",
      "Average of Explained variations: 0.2579391300678253\n"
     ]
    },
    {
     "data": {
      "text/plain": [
       "array([[ -0.16393648,   1.28157234,   0.16697837],\n",
       "       [-10.41118908,  -4.94548893,   3.22475696],\n",
       "       [ -8.69082069,  -8.82754135,   0.07148482]], dtype=float32)"
      ]
     },
     "execution_count": 10,
     "metadata": {},
     "output_type": "execute_result"
    }
   ],
   "source": [
    "from DimensionReduction import DimensionReduction\n",
    "dr = DimensionReduction()\n",
    "vec_3d = dr.PCA(wv.vector, dim=3)\n",
    "vec_3d[:3]"
   ]
  },
  {
   "cell_type": "markdown",
   "metadata": {},
   "source": [
    "# Silhouette Coefficient Analysis"
   ]
  },
  {
   "cell_type": "code",
   "execution_count": 12,
   "metadata": {
    "collapsed": true
   },
   "outputs": [],
   "source": [
    "range_n_clusters = [2, 3, 4, 5, 6, 7, 8, 9, 10]\n",
    "colors=[\"rgb(255,0,0)\", \"rgb(0,255,0)\", \"rgb(0,0,255)\", \"rgb(255,255,0)\", \"rgb(255,0,255)\", \n",
    "        \"rgb(0,255,255)\", \"rgb(127,0,255)\", \"rgb(255,128,0)\",\"rgb(255,0,127)\", \"rgb(128,128,128)\"]"
   ]
  },
  {
   "cell_type": "code",
   "execution_count": 13,
   "metadata": {
    "scrolled": false
   },
   "outputs": [
    {
     "name": "stdout",
     "output_type": "stream",
     "text": [
      "For n_clusters = 2 The average silhouette_score is : 0.291592\n",
      "For n_clusters = 3 The average silhouette_score is : 0.325648\n",
      "For n_clusters = 4 The average silhouette_score is : 0.378724\n",
      "For n_clusters = 5 The average silhouette_score is : 0.326929\n",
      "For n_clusters = 6 The average silhouette_score is : 0.325085\n",
      "For n_clusters = 7 The average silhouette_score is : 0.315989\n",
      "For n_clusters = 8 The average silhouette_score is : 0.331336\n",
      "For n_clusters = 9 The average silhouette_score is : 0.324034\n",
      "For n_clusters = 10 The average silhouette_score is : 0.327786\n"
     ]
    }
   ],
   "source": [
    "figures = []\n",
    "\n",
    "for n_clusters in range_n_clusters:\n",
    "    # Create a subplot with 1 row and 2 columns\n",
    "    fig = tools.make_subplots(rows=1, cols=2,\n",
    "                              print_grid=False,\n",
    "                              specs=[[{'is_3d': False}, {'is_3d': True}]])\n",
    "\n",
    "    # The 1st subplot is the silhouette plot\n",
    "    # The silhouette coefficient can range from -1, 1 but in this example all\n",
    "    # lie within [-0.1, 1]\n",
    "    fig['layout']['xaxis1'].update(title='The silhouette coefficient values', range=[-0.1, 1])\n",
    "   \n",
    "    # The (n_clusters+1)*10 is for inserting blank space between silhouette\n",
    "    # plots of individual clusters, to demarcate them clearly.\n",
    "    fig['layout']['yaxis1'].update(title='Cluster label',\n",
    "                                   showticklabels=False,\n",
    "                                   range=[0, len(vec_3d) + (n_clusters + 1) * 10])\n",
    "\n",
    "    # Initialize the clusterer with n_clusters value and a random generator\n",
    "    # seed of 10 for reproducibility.\n",
    "    clusterer = KMeans(n_clusters=n_clusters)\n",
    "    cluster_labels = clusterer.fit_predict(vec_3d)\n",
    "\n",
    "    # The silhouette_score gives the average value for all the samples.\n",
    "    # This gives a perspective into the density and separation of the formed\n",
    "    # clusters\n",
    "    silhouette_avg = silhouette_score(vec_3d, cluster_labels)\n",
    "    print(\"For n_clusters =\", n_clusters,\n",
    "          \"The average silhouette_score is :\", silhouette_avg)\n",
    "\n",
    "    # Compute the silhouette scores for each sample\n",
    "    sample_silhouette_values = silhouette_samples(vec_3d, cluster_labels)\n",
    "    y_lower = 10\n",
    "    \n",
    "    for i in range(n_clusters):\n",
    "        # Aggregate the silhouette scores for samples belonging to\n",
    "        # cluster i, and sort them\n",
    "        ith_cluster_silhouette_values = \\\n",
    "            sample_silhouette_values[cluster_labels == i]\n",
    "\n",
    "        ith_cluster_silhouette_values.sort()\n",
    "\n",
    "        size_cluster_i = ith_cluster_silhouette_values.shape[0]\n",
    "        y_upper = y_lower + size_cluster_i\n",
    "\n",
    "        # colors = cm.spectral(cluster_labels.astype(float) / n_clusters)\n",
    "\n",
    "        filled_area = go.Scatter(y=np.arange(y_lower, y_upper),\n",
    "                                 x=ith_cluster_silhouette_values,\n",
    "                                 mode='lines',\n",
    "                                 showlegend=False,\n",
    "                                 line=dict(width=0.5,\n",
    "                                          color=colors[i]),\n",
    "                                 fill='tozerox')\n",
    "        fig.append_trace(filled_area, 1, 1)\n",
    "        \n",
    "        # Compute the new y_lower for next plot\n",
    "        y_lower = y_upper + 10  # 10 for the 0 samples\n",
    "        \n",
    "\n",
    "    # The vertical line for average silhouette score of all the values\n",
    "    axis_line = go.Scatter(x=[silhouette_avg],\n",
    "                           y=[0, len(vec_3d) + (n_clusters + 1) * 10],\n",
    "                           showlegend=False,\n",
    "                           mode='lines',\n",
    "                           line=dict(color=\"red\", dash='dash',\n",
    "                                     width =1) )\n",
    "\n",
    "    fig.append_trace(axis_line, 1, 1)\n",
    "    \n",
    "    \n",
    "    \n",
    "    \n",
    "    \n",
    "    \n",
    "    # 2nd Plot showing the actual clusters formed\n",
    "    \n",
    "    labeled_vec = list(zip(vec_3d, cluster_labels))\n",
    "    # Labeling the clusters\n",
    "    centers_ = clusterer.cluster_centers_\n",
    "    for i in range(n_clusters):\n",
    "        ith_cluster_vector = np.array([v for (v,c) in labeled_vec if c == i])\n",
    "        # colors = matplotlib.colors.colorConverter.to_rgb(cm.spectral(float(i) / n_clusters))\n",
    "        # colors = 'rgb'+str(colors)\n",
    "        \n",
    "        clusters = go.Scatter3d(x=ith_cluster_vector[:, 0], \n",
    "                                y=ith_cluster_vector[:, 1], \n",
    "                                z=ith_cluster_vector[:, 2],\n",
    "                                showlegend=False,\n",
    "                                mode='markers',\n",
    "                                marker=dict(\n",
    "                                    color=colors[i],\n",
    "                                    size=3,\n",
    "                                    line=dict(\n",
    "                                        width=0.5\n",
    "                                    )\n",
    "                                )\n",
    "                               )\n",
    "        fig.append_trace(clusters, 1, 2)\n",
    "        \n",
    "        # Draw white circles at cluster centers\n",
    "        centers = go.Scatter3d(x=centers_[i][0], \n",
    "                               y=centers_[i][1],\n",
    "                               z=centers_[i][2],\n",
    "                               showlegend=False,\n",
    "                               mode='markers',\n",
    "                               marker=dict(\n",
    "                                   color=colors[i], size=5,\n",
    "                                   line=dict(color='black', width=1))\n",
    "                               )\n",
    "\n",
    "        fig.append_trace(centers, 1, 2)\n",
    "    \n",
    "                      \n",
    "        \n",
    "        \n",
    "        \n",
    "\n",
    "    fig['layout'].update(title=\"Silhouette analysis for KMeans clustering on sample data \"\n",
    "                         \"with n_clusters = %d\" % n_clusters)\n",
    "    \n",
    "    figures.append(fig)"
   ]
  },
  {
   "cell_type": "code",
   "execution_count": 14,
   "metadata": {},
   "outputs": [
    {
     "data": {
      "text/html": [
       "<iframe id=\"igraph\" scrolling=\"no\" style=\"border:none;\" seamless=\"seamless\" src=\"https://plot.ly/~JooHongLee/148.embed\" height=\"525px\" width=\"100%\"></iframe>"
      ],
      "text/plain": [
       "<plotly.tools.PlotlyDisplay object>"
      ]
     },
     "execution_count": 14,
     "metadata": {},
     "output_type": "execute_result"
    }
   ],
   "source": [
    "py.iplot(figures[0])"
   ]
  },
  {
   "cell_type": "code",
   "execution_count": 15,
   "metadata": {},
   "outputs": [
    {
     "data": {
      "text/html": [
       "<iframe id=\"igraph\" scrolling=\"no\" style=\"border:none;\" seamless=\"seamless\" src=\"https://plot.ly/~JooHongLee/150.embed\" height=\"525px\" width=\"100%\"></iframe>"
      ],
      "text/plain": [
       "<plotly.tools.PlotlyDisplay object>"
      ]
     },
     "execution_count": 15,
     "metadata": {},
     "output_type": "execute_result"
    }
   ],
   "source": [
    "py.iplot(figures[1])"
   ]
  },
  {
   "cell_type": "code",
   "execution_count": 16,
   "metadata": {},
   "outputs": [
    {
     "data": {
      "text/html": [
       "<iframe id=\"igraph\" scrolling=\"no\" style=\"border:none;\" seamless=\"seamless\" src=\"https://plot.ly/~JooHongLee/152.embed\" height=\"525px\" width=\"100%\"></iframe>"
      ],
      "text/plain": [
       "<plotly.tools.PlotlyDisplay object>"
      ]
     },
     "execution_count": 16,
     "metadata": {},
     "output_type": "execute_result"
    }
   ],
   "source": [
    "py.iplot(figures[2])"
   ]
  },
  {
   "cell_type": "code",
   "execution_count": null,
   "metadata": {
    "collapsed": true
   },
   "outputs": [],
   "source": []
  },
  {
   "cell_type": "code",
   "execution_count": null,
   "metadata": {
    "collapsed": true
   },
   "outputs": [],
   "source": []
  },
  {
   "cell_type": "code",
   "execution_count": null,
   "metadata": {
    "collapsed": true
   },
   "outputs": [],
   "source": []
  },
  {
   "cell_type": "code",
   "execution_count": null,
   "metadata": {
    "collapsed": true
   },
   "outputs": [],
   "source": []
  }
 ],
 "metadata": {
  "kernelspec": {
   "display_name": "Python 3",
   "language": "python",
   "name": "python3"
  },
  "language_info": {
   "codemirror_mode": {
    "name": "ipython",
    "version": 3
   },
   "file_extension": ".py",
   "mimetype": "text/x-python",
   "name": "python",
   "nbconvert_exporter": "python",
   "pygments_lexer": "ipython3",
   "version": "3.6.1"
  }
 },
 "nbformat": 4,
 "nbformat_minor": 2
}
