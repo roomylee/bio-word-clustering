{
 "cells": [
  {
   "cell_type": "code",
   "execution_count": 1,
   "metadata": {
    "collapsed": true
   },
   "outputs": [],
   "source": [
    "import igraph as ig"
   ]
  },
  {
   "cell_type": "code",
   "execution_count": 2,
   "metadata": {},
   "outputs": [
    {
     "name": "stdout",
     "output_type": "stream",
     "text": [
      "dict_keys(['nodes', 'links'])\n"
     ]
    }
   ],
   "source": [
    "import json\n",
    "import urllib.request\n",
    "\n",
    "data = []\n",
    "req = urllib.request.Request(\"https://raw.githubusercontent.com/plotly/datasets/master/miserables.json\")\n",
    "opener = urllib.request.build_opener()\n",
    "f = opener.open(req)\n",
    "data = json.loads(f.read())\n",
    "\n",
    "print (data.keys())"
   ]
  },
  {
   "cell_type": "code",
   "execution_count": 3,
   "metadata": {},
   "outputs": [
    {
     "data": {
      "text/plain": [
       "{'links': [{'source': 1, 'target': 0, 'value': 1},\n",
       "  {'source': 2, 'target': 0, 'value': 8},\n",
       "  {'source': 3, 'target': 0, 'value': 10},\n",
       "  {'source': 3, 'target': 2, 'value': 6},\n",
       "  {'source': 4, 'target': 0, 'value': 1},\n",
       "  {'source': 5, 'target': 0, 'value': 1},\n",
       "  {'source': 6, 'target': 0, 'value': 1},\n",
       "  {'source': 7, 'target': 0, 'value': 1},\n",
       "  {'source': 8, 'target': 0, 'value': 2},\n",
       "  {'source': 9, 'target': 0, 'value': 1},\n",
       "  {'source': 11, 'target': 10, 'value': 1},\n",
       "  {'source': 11, 'target': 3, 'value': 3},\n",
       "  {'source': 11, 'target': 2, 'value': 3},\n",
       "  {'source': 11, 'target': 0, 'value': 5},\n",
       "  {'source': 12, 'target': 11, 'value': 1},\n",
       "  {'source': 13, 'target': 11, 'value': 1},\n",
       "  {'source': 14, 'target': 11, 'value': 1},\n",
       "  {'source': 15, 'target': 11, 'value': 1},\n",
       "  {'source': 17, 'target': 16, 'value': 4},\n",
       "  {'source': 18, 'target': 16, 'value': 4},\n",
       "  {'source': 18, 'target': 17, 'value': 4},\n",
       "  {'source': 19, 'target': 16, 'value': 4},\n",
       "  {'source': 19, 'target': 17, 'value': 4},\n",
       "  {'source': 19, 'target': 18, 'value': 4},\n",
       "  {'source': 20, 'target': 16, 'value': 3},\n",
       "  {'source': 20, 'target': 17, 'value': 3},\n",
       "  {'source': 20, 'target': 18, 'value': 3},\n",
       "  {'source': 20, 'target': 19, 'value': 4},\n",
       "  {'source': 21, 'target': 16, 'value': 3},\n",
       "  {'source': 21, 'target': 17, 'value': 3},\n",
       "  {'source': 21, 'target': 18, 'value': 3},\n",
       "  {'source': 21, 'target': 19, 'value': 3},\n",
       "  {'source': 21, 'target': 20, 'value': 5},\n",
       "  {'source': 22, 'target': 16, 'value': 3},\n",
       "  {'source': 22, 'target': 17, 'value': 3},\n",
       "  {'source': 22, 'target': 18, 'value': 3},\n",
       "  {'source': 22, 'target': 19, 'value': 3},\n",
       "  {'source': 22, 'target': 20, 'value': 4},\n",
       "  {'source': 22, 'target': 21, 'value': 4},\n",
       "  {'source': 23, 'target': 16, 'value': 3},\n",
       "  {'source': 23, 'target': 17, 'value': 3},\n",
       "  {'source': 23, 'target': 18, 'value': 3},\n",
       "  {'source': 23, 'target': 19, 'value': 3},\n",
       "  {'source': 23, 'target': 20, 'value': 4},\n",
       "  {'source': 23, 'target': 21, 'value': 4},\n",
       "  {'source': 23, 'target': 22, 'value': 4},\n",
       "  {'source': 23, 'target': 12, 'value': 2},\n",
       "  {'source': 23, 'target': 11, 'value': 9},\n",
       "  {'source': 24, 'target': 23, 'value': 2},\n",
       "  {'source': 24, 'target': 11, 'value': 7},\n",
       "  {'source': 25, 'target': 24, 'value': 13},\n",
       "  {'source': 25, 'target': 23, 'value': 1},\n",
       "  {'source': 25, 'target': 11, 'value': 12},\n",
       "  {'source': 26, 'target': 24, 'value': 4},\n",
       "  {'source': 26, 'target': 11, 'value': 31},\n",
       "  {'source': 26, 'target': 16, 'value': 1},\n",
       "  {'source': 26, 'target': 25, 'value': 1},\n",
       "  {'source': 27, 'target': 11, 'value': 17},\n",
       "  {'source': 27, 'target': 23, 'value': 5},\n",
       "  {'source': 27, 'target': 25, 'value': 5},\n",
       "  {'source': 27, 'target': 24, 'value': 1},\n",
       "  {'source': 27, 'target': 26, 'value': 1},\n",
       "  {'source': 28, 'target': 11, 'value': 8},\n",
       "  {'source': 28, 'target': 27, 'value': 1},\n",
       "  {'source': 29, 'target': 23, 'value': 1},\n",
       "  {'source': 29, 'target': 27, 'value': 1},\n",
       "  {'source': 29, 'target': 11, 'value': 2},\n",
       "  {'source': 30, 'target': 23, 'value': 1},\n",
       "  {'source': 31, 'target': 30, 'value': 2},\n",
       "  {'source': 31, 'target': 11, 'value': 3},\n",
       "  {'source': 31, 'target': 23, 'value': 2},\n",
       "  {'source': 31, 'target': 27, 'value': 1},\n",
       "  {'source': 32, 'target': 11, 'value': 1},\n",
       "  {'source': 33, 'target': 11, 'value': 2},\n",
       "  {'source': 33, 'target': 27, 'value': 1},\n",
       "  {'source': 34, 'target': 11, 'value': 3},\n",
       "  {'source': 34, 'target': 29, 'value': 2},\n",
       "  {'source': 35, 'target': 11, 'value': 3},\n",
       "  {'source': 35, 'target': 34, 'value': 3},\n",
       "  {'source': 35, 'target': 29, 'value': 2},\n",
       "  {'source': 36, 'target': 34, 'value': 2},\n",
       "  {'source': 36, 'target': 35, 'value': 2},\n",
       "  {'source': 36, 'target': 11, 'value': 2},\n",
       "  {'source': 36, 'target': 29, 'value': 1},\n",
       "  {'source': 37, 'target': 34, 'value': 2},\n",
       "  {'source': 37, 'target': 35, 'value': 2},\n",
       "  {'source': 37, 'target': 36, 'value': 2},\n",
       "  {'source': 37, 'target': 11, 'value': 2},\n",
       "  {'source': 37, 'target': 29, 'value': 1},\n",
       "  {'source': 38, 'target': 34, 'value': 2},\n",
       "  {'source': 38, 'target': 35, 'value': 2},\n",
       "  {'source': 38, 'target': 36, 'value': 2},\n",
       "  {'source': 38, 'target': 37, 'value': 2},\n",
       "  {'source': 38, 'target': 11, 'value': 2},\n",
       "  {'source': 38, 'target': 29, 'value': 1},\n",
       "  {'source': 39, 'target': 25, 'value': 1},\n",
       "  {'source': 40, 'target': 25, 'value': 1},\n",
       "  {'source': 41, 'target': 24, 'value': 2},\n",
       "  {'source': 41, 'target': 25, 'value': 3},\n",
       "  {'source': 42, 'target': 41, 'value': 2},\n",
       "  {'source': 42, 'target': 25, 'value': 2},\n",
       "  {'source': 42, 'target': 24, 'value': 1},\n",
       "  {'source': 43, 'target': 11, 'value': 3},\n",
       "  {'source': 43, 'target': 26, 'value': 1},\n",
       "  {'source': 43, 'target': 27, 'value': 1},\n",
       "  {'source': 44, 'target': 28, 'value': 3},\n",
       "  {'source': 44, 'target': 11, 'value': 1},\n",
       "  {'source': 45, 'target': 28, 'value': 2},\n",
       "  {'source': 47, 'target': 46, 'value': 1},\n",
       "  {'source': 48, 'target': 47, 'value': 2},\n",
       "  {'source': 48, 'target': 25, 'value': 1},\n",
       "  {'source': 48, 'target': 27, 'value': 1},\n",
       "  {'source': 48, 'target': 11, 'value': 1},\n",
       "  {'source': 49, 'target': 26, 'value': 3},\n",
       "  {'source': 49, 'target': 11, 'value': 2},\n",
       "  {'source': 50, 'target': 49, 'value': 1},\n",
       "  {'source': 50, 'target': 24, 'value': 1},\n",
       "  {'source': 51, 'target': 49, 'value': 9},\n",
       "  {'source': 51, 'target': 26, 'value': 2},\n",
       "  {'source': 51, 'target': 11, 'value': 2},\n",
       "  {'source': 52, 'target': 51, 'value': 1},\n",
       "  {'source': 52, 'target': 39, 'value': 1},\n",
       "  {'source': 53, 'target': 51, 'value': 1},\n",
       "  {'source': 54, 'target': 51, 'value': 2},\n",
       "  {'source': 54, 'target': 49, 'value': 1},\n",
       "  {'source': 54, 'target': 26, 'value': 1},\n",
       "  {'source': 55, 'target': 51, 'value': 6},\n",
       "  {'source': 55, 'target': 49, 'value': 12},\n",
       "  {'source': 55, 'target': 39, 'value': 1},\n",
       "  {'source': 55, 'target': 54, 'value': 1},\n",
       "  {'source': 55, 'target': 26, 'value': 21},\n",
       "  {'source': 55, 'target': 11, 'value': 19},\n",
       "  {'source': 55, 'target': 16, 'value': 1},\n",
       "  {'source': 55, 'target': 25, 'value': 2},\n",
       "  {'source': 55, 'target': 41, 'value': 5},\n",
       "  {'source': 55, 'target': 48, 'value': 4},\n",
       "  {'source': 56, 'target': 49, 'value': 1},\n",
       "  {'source': 56, 'target': 55, 'value': 1},\n",
       "  {'source': 57, 'target': 55, 'value': 1},\n",
       "  {'source': 57, 'target': 41, 'value': 1},\n",
       "  {'source': 57, 'target': 48, 'value': 1},\n",
       "  {'source': 58, 'target': 55, 'value': 7},\n",
       "  {'source': 58, 'target': 48, 'value': 7},\n",
       "  {'source': 58, 'target': 27, 'value': 6},\n",
       "  {'source': 58, 'target': 57, 'value': 1},\n",
       "  {'source': 58, 'target': 11, 'value': 4},\n",
       "  {'source': 59, 'target': 58, 'value': 15},\n",
       "  {'source': 59, 'target': 55, 'value': 5},\n",
       "  {'source': 59, 'target': 48, 'value': 6},\n",
       "  {'source': 59, 'target': 57, 'value': 2},\n",
       "  {'source': 60, 'target': 48, 'value': 1},\n",
       "  {'source': 60, 'target': 58, 'value': 4},\n",
       "  {'source': 60, 'target': 59, 'value': 2},\n",
       "  {'source': 61, 'target': 48, 'value': 2},\n",
       "  {'source': 61, 'target': 58, 'value': 6},\n",
       "  {'source': 61, 'target': 60, 'value': 2},\n",
       "  {'source': 61, 'target': 59, 'value': 5},\n",
       "  {'source': 61, 'target': 57, 'value': 1},\n",
       "  {'source': 61, 'target': 55, 'value': 1},\n",
       "  {'source': 62, 'target': 55, 'value': 9},\n",
       "  {'source': 62, 'target': 58, 'value': 17},\n",
       "  {'source': 62, 'target': 59, 'value': 13},\n",
       "  {'source': 62, 'target': 48, 'value': 7},\n",
       "  {'source': 62, 'target': 57, 'value': 2},\n",
       "  {'source': 62, 'target': 41, 'value': 1},\n",
       "  {'source': 62, 'target': 61, 'value': 6},\n",
       "  {'source': 62, 'target': 60, 'value': 3},\n",
       "  {'source': 63, 'target': 59, 'value': 5},\n",
       "  {'source': 63, 'target': 48, 'value': 5},\n",
       "  {'source': 63, 'target': 62, 'value': 6},\n",
       "  {'source': 63, 'target': 57, 'value': 2},\n",
       "  {'source': 63, 'target': 58, 'value': 4},\n",
       "  {'source': 63, 'target': 61, 'value': 3},\n",
       "  {'source': 63, 'target': 60, 'value': 2},\n",
       "  {'source': 63, 'target': 55, 'value': 1},\n",
       "  {'source': 64, 'target': 55, 'value': 5},\n",
       "  {'source': 64, 'target': 62, 'value': 12},\n",
       "  {'source': 64, 'target': 48, 'value': 5},\n",
       "  {'source': 64, 'target': 63, 'value': 4},\n",
       "  {'source': 64, 'target': 58, 'value': 10},\n",
       "  {'source': 64, 'target': 61, 'value': 6},\n",
       "  {'source': 64, 'target': 60, 'value': 2},\n",
       "  {'source': 64, 'target': 59, 'value': 9},\n",
       "  {'source': 64, 'target': 57, 'value': 1},\n",
       "  {'source': 64, 'target': 11, 'value': 1},\n",
       "  {'source': 65, 'target': 63, 'value': 5},\n",
       "  {'source': 65, 'target': 64, 'value': 7},\n",
       "  {'source': 65, 'target': 48, 'value': 3},\n",
       "  {'source': 65, 'target': 62, 'value': 5},\n",
       "  {'source': 65, 'target': 58, 'value': 5},\n",
       "  {'source': 65, 'target': 61, 'value': 5},\n",
       "  {'source': 65, 'target': 60, 'value': 2},\n",
       "  {'source': 65, 'target': 59, 'value': 5},\n",
       "  {'source': 65, 'target': 57, 'value': 1},\n",
       "  {'source': 65, 'target': 55, 'value': 2},\n",
       "  {'source': 66, 'target': 64, 'value': 3},\n",
       "  {'source': 66, 'target': 58, 'value': 3},\n",
       "  {'source': 66, 'target': 59, 'value': 1},\n",
       "  {'source': 66, 'target': 62, 'value': 2},\n",
       "  {'source': 66, 'target': 65, 'value': 2},\n",
       "  {'source': 66, 'target': 48, 'value': 1},\n",
       "  {'source': 66, 'target': 63, 'value': 1},\n",
       "  {'source': 66, 'target': 61, 'value': 1},\n",
       "  {'source': 66, 'target': 60, 'value': 1},\n",
       "  {'source': 67, 'target': 57, 'value': 3},\n",
       "  {'source': 68, 'target': 25, 'value': 5},\n",
       "  {'source': 68, 'target': 11, 'value': 1},\n",
       "  {'source': 68, 'target': 24, 'value': 1},\n",
       "  {'source': 68, 'target': 27, 'value': 1},\n",
       "  {'source': 68, 'target': 48, 'value': 1},\n",
       "  {'source': 68, 'target': 41, 'value': 1},\n",
       "  {'source': 69, 'target': 25, 'value': 6},\n",
       "  {'source': 69, 'target': 68, 'value': 6},\n",
       "  {'source': 69, 'target': 11, 'value': 1},\n",
       "  {'source': 69, 'target': 24, 'value': 1},\n",
       "  {'source': 69, 'target': 27, 'value': 2},\n",
       "  {'source': 69, 'target': 48, 'value': 1},\n",
       "  {'source': 69, 'target': 41, 'value': 1},\n",
       "  {'source': 70, 'target': 25, 'value': 4},\n",
       "  {'source': 70, 'target': 69, 'value': 4},\n",
       "  {'source': 70, 'target': 68, 'value': 4},\n",
       "  {'source': 70, 'target': 11, 'value': 1},\n",
       "  {'source': 70, 'target': 24, 'value': 1},\n",
       "  {'source': 70, 'target': 27, 'value': 1},\n",
       "  {'source': 70, 'target': 41, 'value': 1},\n",
       "  {'source': 70, 'target': 58, 'value': 1},\n",
       "  {'source': 71, 'target': 27, 'value': 1},\n",
       "  {'source': 71, 'target': 69, 'value': 2},\n",
       "  {'source': 71, 'target': 68, 'value': 2},\n",
       "  {'source': 71, 'target': 70, 'value': 2},\n",
       "  {'source': 71, 'target': 11, 'value': 1},\n",
       "  {'source': 71, 'target': 48, 'value': 1},\n",
       "  {'source': 71, 'target': 41, 'value': 1},\n",
       "  {'source': 71, 'target': 25, 'value': 1},\n",
       "  {'source': 72, 'target': 26, 'value': 2},\n",
       "  {'source': 72, 'target': 27, 'value': 1},\n",
       "  {'source': 72, 'target': 11, 'value': 1},\n",
       "  {'source': 73, 'target': 48, 'value': 2},\n",
       "  {'source': 74, 'target': 48, 'value': 2},\n",
       "  {'source': 74, 'target': 73, 'value': 3},\n",
       "  {'source': 75, 'target': 69, 'value': 3},\n",
       "  {'source': 75, 'target': 68, 'value': 3},\n",
       "  {'source': 75, 'target': 25, 'value': 3},\n",
       "  {'source': 75, 'target': 48, 'value': 1},\n",
       "  {'source': 75, 'target': 41, 'value': 1},\n",
       "  {'source': 75, 'target': 70, 'value': 1},\n",
       "  {'source': 75, 'target': 71, 'value': 1},\n",
       "  {'source': 76, 'target': 64, 'value': 1},\n",
       "  {'source': 76, 'target': 65, 'value': 1},\n",
       "  {'source': 76, 'target': 66, 'value': 1},\n",
       "  {'source': 76, 'target': 63, 'value': 1},\n",
       "  {'source': 76, 'target': 62, 'value': 1},\n",
       "  {'source': 76, 'target': 48, 'value': 1},\n",
       "  {'source': 76, 'target': 58, 'value': 1}],\n",
       " 'nodes': [{'group': 1, 'name': 'Myriel'},\n",
       "  {'group': 1, 'name': 'Napoleon'},\n",
       "  {'group': 1, 'name': 'Mlle.Baptistine'},\n",
       "  {'group': 1, 'name': 'Mme.Magloire'},\n",
       "  {'group': 1, 'name': 'CountessdeLo'},\n",
       "  {'group': 1, 'name': 'Geborand'},\n",
       "  {'group': 1, 'name': 'Champtercier'},\n",
       "  {'group': 1, 'name': 'Cravatte'},\n",
       "  {'group': 1, 'name': 'Count'},\n",
       "  {'group': 1, 'name': 'OldMan'},\n",
       "  {'group': 2, 'name': 'Labarre'},\n",
       "  {'group': 2, 'name': 'Valjean'},\n",
       "  {'group': 3, 'name': 'Marguerite'},\n",
       "  {'group': 2, 'name': 'Mme.deR'},\n",
       "  {'group': 2, 'name': 'Isabeau'},\n",
       "  {'group': 2, 'name': 'Gervais'},\n",
       "  {'group': 3, 'name': 'Tholomyes'},\n",
       "  {'group': 3, 'name': 'Listolier'},\n",
       "  {'group': 3, 'name': 'Fameuil'},\n",
       "  {'group': 3, 'name': 'Blacheville'},\n",
       "  {'group': 3, 'name': 'Favourite'},\n",
       "  {'group': 3, 'name': 'Dahlia'},\n",
       "  {'group': 3, 'name': 'Zephine'},\n",
       "  {'group': 3, 'name': 'Fantine'},\n",
       "  {'group': 4, 'name': 'Mme.Thenardier'},\n",
       "  {'group': 4, 'name': 'Thenardier'},\n",
       "  {'group': 5, 'name': 'Cosette'},\n",
       "  {'group': 4, 'name': 'Javert'},\n",
       "  {'group': 0, 'name': 'Fauchelevent'},\n",
       "  {'group': 2, 'name': 'Bamatabois'},\n",
       "  {'group': 3, 'name': 'Perpetue'},\n",
       "  {'group': 2, 'name': 'Simplice'},\n",
       "  {'group': 2, 'name': 'Scaufflaire'},\n",
       "  {'group': 2, 'name': 'Woman1'},\n",
       "  {'group': 2, 'name': 'Judge'},\n",
       "  {'group': 2, 'name': 'Champmathieu'},\n",
       "  {'group': 2, 'name': 'Brevet'},\n",
       "  {'group': 2, 'name': 'Chenildieu'},\n",
       "  {'group': 2, 'name': 'Cochepaille'},\n",
       "  {'group': 4, 'name': 'Pontmercy'},\n",
       "  {'group': 6, 'name': 'Boulatruelle'},\n",
       "  {'group': 4, 'name': 'Eponine'},\n",
       "  {'group': 4, 'name': 'Anzelma'},\n",
       "  {'group': 5, 'name': 'Woman2'},\n",
       "  {'group': 0, 'name': 'MotherInnocent'},\n",
       "  {'group': 0, 'name': 'Gribier'},\n",
       "  {'group': 7, 'name': 'Jondrette'},\n",
       "  {'group': 7, 'name': 'Mme.Burgon'},\n",
       "  {'group': 8, 'name': 'Gavroche'},\n",
       "  {'group': 5, 'name': 'Gillenormand'},\n",
       "  {'group': 5, 'name': 'Magnon'},\n",
       "  {'group': 5, 'name': 'Mlle.Gillenormand'},\n",
       "  {'group': 5, 'name': 'Mme.Pontmercy'},\n",
       "  {'group': 5, 'name': 'Mlle.Vaubois'},\n",
       "  {'group': 5, 'name': 'Lt.Gillenormand'},\n",
       "  {'group': 8, 'name': 'Marius'},\n",
       "  {'group': 5, 'name': 'BaronessT'},\n",
       "  {'group': 8, 'name': 'Mabeuf'},\n",
       "  {'group': 8, 'name': 'Enjolras'},\n",
       "  {'group': 8, 'name': 'Combeferre'},\n",
       "  {'group': 8, 'name': 'Prouvaire'},\n",
       "  {'group': 8, 'name': 'Feuilly'},\n",
       "  {'group': 8, 'name': 'Courfeyrac'},\n",
       "  {'group': 8, 'name': 'Bahorel'},\n",
       "  {'group': 8, 'name': 'Bossuet'},\n",
       "  {'group': 8, 'name': 'Joly'},\n",
       "  {'group': 8, 'name': 'Grantaire'},\n",
       "  {'group': 9, 'name': 'MotherPlutarch'},\n",
       "  {'group': 4, 'name': 'Gueulemer'},\n",
       "  {'group': 4, 'name': 'Babet'},\n",
       "  {'group': 4, 'name': 'Claquesous'},\n",
       "  {'group': 4, 'name': 'Montparnasse'},\n",
       "  {'group': 5, 'name': 'Toussaint'},\n",
       "  {'group': 10, 'name': 'Child1'},\n",
       "  {'group': 10, 'name': 'Child2'},\n",
       "  {'group': 4, 'name': 'Brujon'},\n",
       "  {'group': 8, 'name': 'Mme.Hucheloup'}]}"
      ]
     },
     "execution_count": 3,
     "metadata": {},
     "output_type": "execute_result"
    }
   ],
   "source": [
    "data"
   ]
  },
  {
   "cell_type": "code",
   "execution_count": 4,
   "metadata": {},
   "outputs": [
    {
     "data": {
      "text/plain": [
       "77"
      ]
     },
     "execution_count": 4,
     "metadata": {},
     "output_type": "execute_result"
    }
   ],
   "source": [
    "N=len(data['nodes'])\n",
    "N"
   ]
  },
  {
   "cell_type": "code",
   "execution_count": 5,
   "metadata": {},
   "outputs": [
    {
     "data": {
      "text/plain": [
       "254"
      ]
     },
     "execution_count": 5,
     "metadata": {},
     "output_type": "execute_result"
    }
   ],
   "source": [
    "len(data['links'])"
   ]
  },
  {
   "cell_type": "code",
   "execution_count": 20,
   "metadata": {
    "collapsed": true
   },
   "outputs": [],
   "source": [
    "import os, sys\n",
    "sys.path.append(os.path.split(os.getcwd())[0])\n",
    "\n",
    "from WordVector import WordVector"
   ]
  },
  {
   "cell_type": "code",
   "execution_count": 28,
   "metadata": {},
   "outputs": [
    {
     "name": "stdout",
     "output_type": "stream",
     "text": [
      "['BAC00streptpyog', 'BAC00escheco', 'BAC00vibvulni', 'BAC00vibvulni', 'BAC00salmoente']\n",
      "['DIS00diseases', 'DIS00meningitis', 'DIS00sepsis', 'DIS00disease', 'DIS00sepsis']\n",
      "['cause', 'cause', 'cause', 'cause', 'cause']\n"
     ]
    }
   ],
   "source": [
    "import data_helper\n",
    "bac,dis,rel = data_helper.get_triplet()\n",
    "nodes = bac + dis + rel\n",
    "print(bac[:5])\n",
    "print(dis[:5])\n",
    "print(rel[:5])"
   ]
  },
  {
   "cell_type": "code",
   "execution_count": 50,
   "metadata": {},
   "outputs": [
    {
     "data": {
      "text/plain": [
       "['BAC00streptpyog',\n",
       " 'BAC00escheco',\n",
       " 'BAC00vibvulni',\n",
       " 'BAC00vibvulni',\n",
       " 'BAC00salmoente']"
      ]
     },
     "execution_count": 50,
     "metadata": {},
     "output_type": "execute_result"
    }
   ],
   "source": [
    "nodes[:5]"
   ]
  },
  {
   "cell_type": "code",
   "execution_count": 52,
   "metadata": {
    "collapsed": true
   },
   "outputs": [],
   "source": [
    "unique_nodes = list(set(nodes))"
   ]
  },
  {
   "cell_type": "code",
   "execution_count": 79,
   "metadata": {},
   "outputs": [
    {
     "name": "stdout",
     "output_type": "stream",
     "text": [
      "['bacterium', 'BAC00bifidobbif', 'BAC00stenotromalto', 'BAC00streptmi', 'follow']\n",
      "142\n"
     ]
    }
   ],
   "source": [
    "print(unique_nodes[:5])\n",
    "print(len(unique_nodes))"
   ]
  },
  {
   "cell_type": "code",
   "execution_count": 53,
   "metadata": {},
   "outputs": [],
   "source": [
    "nodes_num = {}\n",
    "for i in range(len(unique_nodes)):\n",
    "    nodes_num[unique_nodes[i]] = i"
   ]
  },
  {
   "cell_type": "code",
   "execution_count": 58,
   "metadata": {},
   "outputs": [
    {
     "data": {
      "text/plain": [
       "{'BAC00actinmey': 64,\n",
       " 'BAC00actinne': 41,\n",
       " 'BAC00aerohydro': 130,\n",
       " 'BAC00bacianth': 54,\n",
       " 'BAC00bifidobbif': 1,\n",
       " 'BAC00bifidoblon': 141,\n",
       " 'BAC00burkhocenoc': 53,\n",
       " 'BAC00burkhocep': 63,\n",
       " 'BAC00burkhomal': 103,\n",
       " 'BAC00burkhopseudo': 92,\n",
       " 'BAC00campyljej': 83,\n",
       " 'BAC00citrokos': 85,\n",
       " 'BAC00citrorode': 88,\n",
       " 'BAC00clostperfr': 115,\n",
       " 'BAC00corynebamyco': 30,\n",
       " 'BAC00corynebjeik': 98,\n",
       " 'BAC00corynebxer': 67,\n",
       " 'BAC00empedobre': 39,\n",
       " 'BAC00enteroaero': 52,\n",
       " 'BAC00enteroclo': 137,\n",
       " 'BAC00enterofaec': 120,\n",
       " 'BAC00erysiperhusio': 37,\n",
       " 'BAC00escheco': 100,\n",
       " 'BAC00fusobanecro': 44,\n",
       " 'BAC00haemoinflu': 111,\n",
       " 'BAC00klebspneum': 97,\n",
       " 'BAC00lactobplan': 23,\n",
       " 'BAC00lactoplan': 108,\n",
       " 'BAC00listmonocy': 45,\n",
       " 'BAC00neismening': 140,\n",
       " 'BAC00pandisp': 74,\n",
       " 'BAC00prevobuc': 131,\n",
       " 'BAC00promira': 19,\n",
       " 'BAC00pseudaerug': 57,\n",
       " 'BAC00raoulornithi': 116,\n",
       " 'BAC00salmoente': 70,\n",
       " 'BAC00sebaltermi': 84,\n",
       " 'BAC00staphylaur': 80,\n",
       " 'BAC00staphylcarn': 49,\n",
       " 'BAC00staphylepide': 118,\n",
       " 'BAC00stenotromalto': 2,\n",
       " 'BAC00streptagala': 90,\n",
       " 'BAC00streptaur': 72,\n",
       " 'BAC00streptgallol': 34,\n",
       " 'BAC00streptmi': 3,\n",
       " 'BAC00streptpneum': 132,\n",
       " 'BAC00streptpyog': 20,\n",
       " 'BAC00streptsu': 13,\n",
       " 'BAC00ureapureal': 59,\n",
       " 'BAC00vibvulni': 96,\n",
       " 'BAC00wohlfahrchitini': 28,\n",
       " 'BAC00yersenteroc': 112,\n",
       " 'BAC00yerspes': 117,\n",
       " 'DIS00actinomycosis': 93,\n",
       " 'DIS00bactpneu': 121,\n",
       " 'DIS00diarrhea': 48,\n",
       " 'DIS00disease': 101,\n",
       " 'DIS00diseases': 66,\n",
       " 'DIS00gastrointestinal': 86,\n",
       " 'DIS00glanders': 104,\n",
       " 'DIS00influenzae': 124,\n",
       " 'DIS00melioidosis': 18,\n",
       " 'DIS00meningitis': 110,\n",
       " 'DIS00plague': 24,\n",
       " 'DIS00pneumonia': 89,\n",
       " 'DIS00pneumoniae': 60,\n",
       " 'DIS00sepsis': 46,\n",
       " 'DIS00sepsis-induced': 75,\n",
       " 'DIS00sepsis/DIS00meningitis': 8,\n",
       " 'abdominal': 79,\n",
       " 'accompany': 14,\n",
       " 'acquire': 58,\n",
       " 'agent': 35,\n",
       " 'airway': 133,\n",
       " 'amount': 62,\n",
       " 'appear': 81,\n",
       " 'ascribe': 71,\n",
       " 'associate': 12,\n",
       " 'bacterium': 0,\n",
       " 'capacity': 40,\n",
       " 'catheter-relate': 122,\n",
       " 'cause': 43,\n",
       " 'challenge': 87,\n",
       " 'colonise': 61,\n",
       " 'colonize': 77,\n",
       " 'constitute': 113,\n",
       " 'consumption': 128,\n",
       " 'contaminate': 38,\n",
       " 'due': 105,\n",
       " 'during': 78,\n",
       " 'early-onset': 21,\n",
       " 'effective': 126,\n",
       " 'eon': 55,\n",
       " 'episode': 7,\n",
       " 'etiology': 129,\n",
       " 'evaluate': 139,\n",
       " 'evoke': 94,\n",
       " 'experimental': 6,\n",
       " 'factor': 109,\n",
       " 'follow': 4,\n",
       " 'gram-negative': 138,\n",
       " 'incidence': 114,\n",
       " 'induce': 36,\n",
       " 'infection': 5,\n",
       " 'inflammation': 50,\n",
       " 'infusion': 42,\n",
       " 'initiate': 73,\n",
       " 'inject': 69,\n",
       " 'injection': 127,\n",
       " 'isolate': 29,\n",
       " 'lead': 134,\n",
       " 'manifestation': 119,\n",
       " 'model': 91,\n",
       " 'mortality': 17,\n",
       " 'mouse': 123,\n",
       " 'neonatal': 65,\n",
       " 'obtain': 135,\n",
       " 'organism': 27,\n",
       " 'overwhelm': 15,\n",
       " 'oyster': 99,\n",
       " 'pathogen': 25,\n",
       " 'patient': 107,\n",
       " 'phenotype': 136,\n",
       " 'predominate': 82,\n",
       " 'premature': 11,\n",
       " 'prevent': 56,\n",
       " 'produce': 95,\n",
       " 'protect': 10,\n",
       " 'recover': 47,\n",
       " 'reduce': 51,\n",
       " 'responsible': 9,\n",
       " 'result': 22,\n",
       " 'survival': 32,\n",
       " 'syndrome': 31,\n",
       " 'systemic': 33,\n",
       " 'tool': 102,\n",
       " 'tract': 125,\n",
       " 'translocation': 68,\n",
       " 'traverse': 106,\n",
       " 'trigger': 16,\n",
       " 'type': 26,\n",
       " 'use': 76}"
      ]
     },
     "execution_count": 58,
     "metadata": {},
     "output_type": "execute_result"
    }
   ],
   "source": [
    "nodes_num"
   ]
  },
  {
   "cell_type": "code",
   "execution_count": 59,
   "metadata": {},
   "outputs": [],
   "source": [
    "Edges = []\n",
    "for i in range(len(bac)):\n",
    "    Edges.append((nodes_num[bac[i]], nodes_num[rel[i]]))\n",
    "    Edges.append((nodes_num[rel[i]], nodes_num[dis[i]]))\n",
    "\n",
    "G=ig.Graph(Edges, directed=False)\n"
   ]
  },
  {
   "cell_type": "code",
   "execution_count": 77,
   "metadata": {},
   "outputs": [
    {
     "name": "stdout",
     "output_type": "stream",
     "text": [
      "[(20, 43), (43, 66), (100, 43), (43, 110), (96, 43)]\n",
      "554\n"
     ]
    }
   ],
   "source": [
    "print(Edges[:5])\n",
    "print(len(Edges))"
   ]
  },
  {
   "cell_type": "code",
   "execution_count": 81,
   "metadata": {
    "collapsed": true
   },
   "outputs": [],
   "source": [
    "labels=[]\n",
    "group=[]\n",
    "for node in list(set(bac)):\n",
    "    labels.append(node)\n",
    "    group.append(1)\n",
    "for node in list(set(dis)):\n",
    "    labels.append(node)\n",
    "    group.append(2)\n",
    "for node in list(set(rel)):\n",
    "    labels.append(node)\n",
    "    group.append(3)"
   ]
  },
  {
   "cell_type": "code",
   "execution_count": 82,
   "metadata": {},
   "outputs": [
    {
     "name": "stdout",
     "output_type": "stream",
     "text": [
      "['BAC00bifidobbif', 'BAC00erysiperhusio', 'BAC00empedobre', 'BAC00burkhomal', 'BAC00streptaur']\n",
      "[1, 1, 1, 1, 1]\n"
     ]
    }
   ],
   "source": [
    "print(labels[:5])\n",
    "print(group[:5])"
   ]
  },
  {
   "cell_type": "code",
   "execution_count": 84,
   "metadata": {},
   "outputs": [
    {
     "name": "stdout",
     "output_type": "stream",
     "text": [
      "['eon', 'mouse', 'predominate', 'accompany', 'tract']\n",
      "[3, 3, 3, 3, 3]\n"
     ]
    }
   ],
   "source": [
    "print(labels[100:105])\n",
    "print(group[100:105])"
   ]
  },
  {
   "cell_type": "code",
   "execution_count": 85,
   "metadata": {
    "collapsed": true
   },
   "outputs": [],
   "source": [
    "layt = G.layout('kk', dim=3)"
   ]
  },
  {
   "cell_type": "code",
   "execution_count": 86,
   "metadata": {},
   "outputs": [
    {
     "data": {
      "text/plain": [
       "<Layout with 142 vertices and 3 dimensions>"
      ]
     },
     "execution_count": 86,
     "metadata": {},
     "output_type": "execute_result"
    }
   ],
   "source": [
    "layt"
   ]
  },
  {
   "cell_type": "code",
   "execution_count": 87,
   "metadata": {},
   "outputs": [
    {
     "data": {
      "text/plain": [
       "[[4.335715952011612, 0.2689042139996547, -1.2162896541215018],\n",
       " [2.6031061704569876, 0.2353848076814769, -4.352938026921688],\n",
       " [4.103445248360424, 2.8673809073770795, -0.5019023878217468],\n",
       " [5.209861565042912, 1.3882790654499155, -0.658612741381523],\n",
       " [9.523496889086568, 1.9303366319305493, -3.961383831093925]]"
      ]
     },
     "execution_count": 87,
     "metadata": {},
     "output_type": "execute_result"
    }
   ],
   "source": [
    "layt[:5]"
   ]
  },
  {
   "cell_type": "code",
   "execution_count": 90,
   "metadata": {
    "scrolled": true
   },
   "outputs": [],
   "source": [
    "N = len(unique_nodes)\n",
    "Xn=[layt[k][0] for k in range(N)]# x-coordinates of nodes\n",
    "Yn=[layt[k][1] for k in range(N)]# y-coordinates\n",
    "Zn=[layt[k][2] for k in range(N)]# z-coordinates\n",
    "Xe=[]\n",
    "Ye=[]\n",
    "Ze=[]\n",
    "for e in Edges:\n",
    "    Xe+=[layt[e[0]][0],layt[e[1]][0], None]# x-coordinates of edge ends\n",
    "    Ye+=[layt[e[0]][1],layt[e[1]][1], None]\n",
    "    Ze+=[layt[e[0]][2],layt[e[1]][2], None]\n"
   ]
  },
  {
   "cell_type": "code",
   "execution_count": 91,
   "metadata": {
    "collapsed": true
   },
   "outputs": [],
   "source": [
    "import plotly.plotly as py\n",
    "from plotly.graph_objs import *"
   ]
  },
  {
   "cell_type": "code",
   "execution_count": 103,
   "metadata": {
    "collapsed": true
   },
   "outputs": [],
   "source": [
    "trace1=Scatter3d(x=Xe,\n",
    "               y=Ye,\n",
    "               z=Ze,\n",
    "               mode='lines',\n",
    "               line=Line(color='rgb(125,125,125)', width=1),\n",
    "               hoverinfo='none'\n",
    "               )\n",
    "trace2=Scatter3d(x=Xn,\n",
    "               y=Yn,\n",
    "               z=Zn,\n",
    "               mode='markers',\n",
    "               name='actors',\n",
    "               marker=Marker(symbol='dot',\n",
    "                             size=4,\n",
    "                             color=group,\n",
    "                             colorscale='Viridis',\n",
    "                             line=Line(color='rgb(50,50,50)', width=0.5)\n",
    "                             ),\n",
    "               text=labels,\n",
    "               hoverinfo='text'\n",
    "               )\n"
   ]
  },
  {
   "cell_type": "code",
   "execution_count": 104,
   "metadata": {
    "collapsed": true
   },
   "outputs": [],
   "source": [
    "axis=dict(showbackground=False,\n",
    "          showline=False,\n",
    "          zeroline=False,\n",
    "          showgrid=False,\n",
    "          showticklabels=False,\n",
    "          title=''\n",
    "          )\n"
   ]
  },
  {
   "cell_type": "code",
   "execution_count": 105,
   "metadata": {
    "collapsed": true
   },
   "outputs": [],
   "source": [
    "layout = Layout(\n",
    "         title=\"Bio Triplet Visualization\",\n",
    "         width=900,\n",
    "         height=800,\n",
    "         showlegend=True,\n",
    "         scene=Scene(\n",
    "         xaxis=XAxis(axis),\n",
    "         yaxis=YAxis(axis),\n",
    "         zaxis=ZAxis(axis),\n",
    "        ),\n",
    "     margin=Margin(\n",
    "        t=100\n",
    "    ),\n",
    "    hovermode='closest',\n",
    "    annotations=Annotations([\n",
    "           Annotation(\n",
    "           showarrow=False,\n",
    "            text=\"\",\n",
    "            xref='paper',\n",
    "            yref='paper',\n",
    "            x=0,\n",
    "            y=0.1,\n",
    "            xanchor='left',\n",
    "            yanchor='bottom',\n",
    "            font=Font(\n",
    "            size=14\n",
    "            )\n",
    "            )\n",
    "        ]),    )"
   ]
  },
  {
   "cell_type": "code",
   "execution_count": 106,
   "metadata": {},
   "outputs": [
    {
     "data": {
      "text/html": [
       "<iframe id=\"igraph\" scrolling=\"no\" style=\"border:none;\" seamless=\"seamless\" src=\"https://plot.ly/~roomylee/2.embed\" height=\"800px\" width=\"900px\"></iframe>"
      ],
      "text/plain": [
       "<plotly.tools.PlotlyDisplay object>"
      ]
     },
     "execution_count": 106,
     "metadata": {},
     "output_type": "execute_result"
    }
   ],
   "source": [
    "data_=Data([trace1, trace2])\n",
    "fig=Figure(data=data_, layout=layout)\n",
    "\n",
    "py.iplot(fig, filename='Bio Triplet Visualization')"
   ]
  },
  {
   "cell_type": "code",
   "execution_count": null,
   "metadata": {
    "collapsed": true
   },
   "outputs": [],
   "source": []
  }
 ],
 "metadata": {
  "kernelspec": {
   "display_name": "Python 3",
   "language": "python",
   "name": "python3"
  },
  "language_info": {
   "codemirror_mode": {
    "name": "ipython",
    "version": 3
   },
   "file_extension": ".py",
   "mimetype": "text/x-python",
   "name": "python",
   "nbconvert_exporter": "python",
   "pygments_lexer": "ipython3",
   "version": "3.6.2"
  }
 },
 "nbformat": 4,
 "nbformat_minor": 2
}
