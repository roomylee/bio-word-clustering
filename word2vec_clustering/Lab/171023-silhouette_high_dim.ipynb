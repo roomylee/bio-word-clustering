{
 "cells": [
  {
   "cell_type": "code",
   "execution_count": 1,
   "metadata": {
    "collapsed": true
   },
   "outputs": [],
   "source": [
    "import plotly.plotly as py\n",
    "import plotly.graph_objs as go\n",
    "from plotly import tools\n",
    "\n",
    "from __future__ import print_function\n",
    "\n",
    "from sklearn.datasets import make_blobs\n",
    "from sklearn.cluster import KMeans, DBSCAN\n",
    "from sklearn.metrics import silhouette_samples, silhouette_score\n",
    "\n",
    "import matplotlib\n",
    "import matplotlib.pyplot as plt\n",
    "import matplotlib.cm as cm\n",
    "import numpy as np"
   ]
  },
  {
   "cell_type": "code",
   "execution_count": 2,
   "metadata": {
    "collapsed": true
   },
   "outputs": [],
   "source": [
    "import os, sys\n",
    "sys.path.append(os.path.split(os.getcwd())[0])\n",
    "\n",
    "from WordVector import WordVector"
   ]
  },
  {
   "cell_type": "code",
   "execution_count": 3,
   "metadata": {},
   "outputs": [
    {
     "data": {
      "text/plain": [
       "['cause', 'cause', 'cause', 'cause', 'cause']"
      ]
     },
     "execution_count": 3,
     "metadata": {},
     "output_type": "execute_result"
    }
   ],
   "source": [
    "import data_helper\n",
    "_,_,relation = data_helper.get_triplet()\n",
    "relation[:5]"
   ]
  },
  {
   "cell_type": "code",
   "execution_count": 4,
   "metadata": {},
   "outputs": [
    {
     "data": {
      "text/plain": [
       "['associate', 'isolate', 'tract', 'agent', 'protect']"
      ]
     },
     "execution_count": 4,
     "metadata": {},
     "output_type": "execute_result"
    }
   ],
   "source": [
    "relation = list(set(relation))\n",
    "relation[:5]"
   ]
  },
  {
   "cell_type": "code",
   "execution_count": 5,
   "metadata": {},
   "outputs": [
    {
     "name": "stdout",
     "output_type": "stream",
     "text": [
      "Loading a pre-trained model...\n",
      "Load success!\n"
     ]
    }
   ],
   "source": [
    "wv = WordVector(relation)"
   ]
  },
  {
   "cell_type": "code",
   "execution_count": 6,
   "metadata": {},
   "outputs": [
    {
     "data": {
      "text/plain": [
       "['associate', 'isolate', 'tract', 'agent', 'protect']"
      ]
     },
     "execution_count": 6,
     "metadata": {},
     "output_type": "execute_result"
    }
   ],
   "source": [
    "wv.word[:5]"
   ]
  },
  {
   "cell_type": "code",
   "execution_count": 7,
   "metadata": {},
   "outputs": [
    {
     "data": {
      "text/plain": [
       "array([-7.46317625,  5.22262335,  0.71423316,  0.25281432, -1.88950515,\n",
       "        2.81982327,  2.73439074, -4.62568474,  6.02962923, -0.94903088,\n",
       "        1.83171713,  1.3681246 ,  0.25107786, -0.18608131,  5.71420813,\n",
       "       -1.36870456, -0.7962479 ,  0.04593692,  0.8792268 , -7.22526407,\n",
       "        0.80905265,  1.58117318,  1.0936867 ,  5.19975233, -3.17536306,\n",
       "       -0.70044959,  1.0075146 ,  0.66012025, -1.50227594, -0.10630549,\n",
       "        2.6462605 ,  2.83042741,  3.67946649,  3.47750616,  3.1894536 ,\n",
       "        3.15186787,  2.79550552, -3.32184863, -3.00941992, -0.50261015,\n",
       "        0.3727569 , -3.37824678,  0.15729892, -2.11493087, -2.6781621 ,\n",
       "        0.56826591,  2.38367653,  2.03506947, -1.72758603,  1.0746913 ,\n",
       "        1.08710182,  1.2823298 , -0.54097337,  0.20989586,  7.90480423,\n",
       "        2.08192778,  2.01071239, -0.15677463, -0.11600718, -3.72518182,\n",
       "        1.92703974, -2.60743594,  3.79480958, -2.81607437,  1.63305116,\n",
       "        3.10046721, -3.40380216, -1.28256249,  0.90507215, -0.77396232,\n",
       "       -0.70727974, -4.28756952,  6.58342266, -2.4463284 ,  3.66608095,\n",
       "       -2.7490623 ,  1.24331558, -2.39312553, -0.4125725 , -0.37615967,\n",
       "        3.61672783,  0.04202391,  0.90151983,  3.66950631,  6.82182884,\n",
       "        1.58104491,  1.04969847, -0.84232688, -0.92791367, -0.76855558,\n",
       "        2.80442762,  4.11114454, -1.10904193,  3.63624287,  3.42484879,\n",
       "        3.81620407, -0.14195512, -2.95668507,  3.66366768,  0.02146473], dtype=float32)"
      ]
     },
     "execution_count": 7,
     "metadata": {},
     "output_type": "execute_result"
    }
   ],
   "source": [
    "wv.vector[0]"
   ]
  },
  {
   "cell_type": "markdown",
   "metadata": {},
   "source": [
    "# Silhouette Coefficient Analysis"
   ]
  },
  {
   "cell_type": "code",
   "execution_count": 8,
   "metadata": {
    "collapsed": true
   },
   "outputs": [],
   "source": [
    "range_n_clusters = [2, 3, 4, 5, 6, 7, 8, 9, 10]"
   ]
  },
  {
   "cell_type": "code",
   "execution_count": 15,
   "metadata": {
    "scrolled": false
   },
   "outputs": [
    {
     "name": "stdout",
     "output_type": "stream",
     "text": [
      "For n_clusters = 2 The average silhouette_score is : 0.0871994\n",
      "For n_clusters = 3 The average silhouette_score is : 0.0644643\n",
      "For n_clusters = 4 The average silhouette_score is : 0.087233\n",
      "For n_clusters = 5 The average silhouette_score is : 0.0702233\n",
      "For n_clusters = 6 The average silhouette_score is : 0.069751\n",
      "For n_clusters = 7 The average silhouette_score is : 0.0440013\n",
      "For n_clusters = 8 The average silhouette_score is : 0.0452041\n",
      "For n_clusters = 9 The average silhouette_score is : 0.0646735\n",
      "For n_clusters = 10 The average silhouette_score is : 0.0568134\n"
     ]
    }
   ],
   "source": [
    "figures = []\n",
    "\n",
    "for n_clusters in range_n_clusters:\n",
    "    # Create a subplot with 1 row and 2 columns\n",
    "    fig = tools.make_subplots(rows=1, cols=1,\n",
    "                              print_grid=False,\n",
    "                              specs=[[{'is_3d': False}]])\n",
    "\n",
    "    # The 1st subplot is the silhouette plot\n",
    "    # The silhouette coefficient can range from -1, 1 but in this example all\n",
    "    # lie within [-0.1, 1]\n",
    "    fig['layout']['xaxis1'].update(title='The silhouette coefficient values',\n",
    "                                   range=[-0.1, 1])\n",
    "   \n",
    "    # The (n_clusters+1)*10 is for inserting blank space between silhouette\n",
    "    # plots of individual clusters, to demarcate them clearly.\n",
    "    fig['layout']['yaxis1'].update(title='Cluster label',\n",
    "                                   showticklabels=False,\n",
    "                                   range=[0, len(wv.vector) + (n_clusters + 1) * 10])\n",
    "\n",
    "    # Initialize the clusterer with n_clusters value and a random generator\n",
    "    # seed of 10 for reproducibility.\n",
    "    clusterer = KMeans(n_clusters=n_clusters)\n",
    "    cluster_labels = clusterer.fit_predict(wv.vector)\n",
    "\n",
    "    # The silhouette_score gives the average value for all the samples.\n",
    "    # This gives a perspective into the density and separation of the formed\n",
    "    # clusters\n",
    "    silhouette_avg = silhouette_score(wv.vector, cluster_labels)\n",
    "    print(\"For n_clusters =\", n_clusters,\n",
    "          \"The average silhouette_score is :\", silhouette_avg)\n",
    "\n",
    "    # Compute the silhouette scores for each sample\n",
    "    sample_silhouette_values = silhouette_samples(wv.vector, cluster_labels)\n",
    "    y_lower = 10\n",
    "    \n",
    "    for i in range(n_clusters):\n",
    "        # Aggregate the silhouette scores for samples belonging to\n",
    "        # cluster i, and sort them\n",
    "        ith_cluster_silhouette_values = \\\n",
    "            sample_silhouette_values[cluster_labels == i]\n",
    "\n",
    "        ith_cluster_silhouette_values.sort()\n",
    "\n",
    "        size_cluster_i = ith_cluster_silhouette_values.shape[0]\n",
    "        y_upper = y_lower + size_cluster_i\n",
    "\n",
    "        colors = cm.spectral(cluster_labels.astype(float) / n_clusters)\n",
    "\n",
    "        filled_area = go.Scatter(y=np.arange(y_lower, y_upper),\n",
    "                                 x=ith_cluster_silhouette_values,\n",
    "                                 mode='lines',\n",
    "                                 showlegend=False,\n",
    "                                 line=dict(width=0.5,\n",
    "                                          color=colors),\n",
    "                                 fill='tozerox')\n",
    "        fig.append_trace(filled_area, 1, 1)\n",
    "        \n",
    "        # Compute the new y_lower for next plot\n",
    "        y_lower = y_upper + 10  # 10 for the 0 samples\n",
    "        \n",
    "\n",
    "    # The vertical line for average silhouette score of all the values\n",
    "    axis_line = go.Scatter(x=[silhouette_avg],\n",
    "                           y=[0, len(wv.vector) + (n_clusters + 1) * 10],\n",
    "                           showlegend=False,\n",
    "                           mode='lines',\n",
    "                           line=dict(color=\"red\", dash='dash', width =1) )\n",
    "\n",
    "    fig.append_trace(axis_line, 1, 1)\n",
    "    \n",
    "    \n",
    "    figures.append(fig)"
   ]
  },
  {
   "cell_type": "code",
   "execution_count": 16,
   "metadata": {},
   "outputs": [
    {
     "data": {
      "text/html": [
       "<iframe id=\"igraph\" scrolling=\"no\" style=\"border:none;\" seamless=\"seamless\" src=\"https://plot.ly/~JooHongLee/108.embed\" height=\"525px\" width=\"100%\"></iframe>"
      ],
      "text/plain": [
       "<plotly.tools.PlotlyDisplay object>"
      ]
     },
     "execution_count": 16,
     "metadata": {},
     "output_type": "execute_result"
    }
   ],
   "source": [
    "py.iplot(figures[0])"
   ]
  },
  {
   "cell_type": "code",
   "execution_count": 17,
   "metadata": {},
   "outputs": [
    {
     "data": {
      "text/html": [
       "<iframe id=\"igraph\" scrolling=\"no\" style=\"border:none;\" seamless=\"seamless\" src=\"https://plot.ly/~JooHongLee/110.embed\" height=\"525px\" width=\"100%\"></iframe>"
      ],
      "text/plain": [
       "<plotly.tools.PlotlyDisplay object>"
      ]
     },
     "execution_count": 17,
     "metadata": {},
     "output_type": "execute_result"
    }
   ],
   "source": [
    "py.iplot(figures[1])"
   ]
  },
  {
   "cell_type": "code",
   "execution_count": 18,
   "metadata": {},
   "outputs": [
    {
     "data": {
      "text/html": [
       "<iframe id=\"igraph\" scrolling=\"no\" style=\"border:none;\" seamless=\"seamless\" src=\"https://plot.ly/~JooHongLee/112.embed\" height=\"525px\" width=\"100%\"></iframe>"
      ],
      "text/plain": [
       "<plotly.tools.PlotlyDisplay object>"
      ]
     },
     "execution_count": 18,
     "metadata": {},
     "output_type": "execute_result"
    }
   ],
   "source": [
    "py.iplot(figures[2])"
   ]
  },
  {
   "cell_type": "code",
   "execution_count": null,
   "metadata": {
    "collapsed": true
   },
   "outputs": [],
   "source": []
  }
 ],
 "metadata": {
  "kernelspec": {
   "display_name": "Python 3",
   "language": "python",
   "name": "python3"
  },
  "language_info": {
   "codemirror_mode": {
    "name": "ipython",
    "version": 3
   },
   "file_extension": ".py",
   "mimetype": "text/x-python",
   "name": "python",
   "nbconvert_exporter": "python",
   "pygments_lexer": "ipython3",
   "version": "3.6.1"
  }
 },
 "nbformat": 4,
 "nbformat_minor": 2
}
